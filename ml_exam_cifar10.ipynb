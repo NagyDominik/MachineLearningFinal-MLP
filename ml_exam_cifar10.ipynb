{
 "metadata": {
  "language_info": {
   "codemirror_mode": {
    "name": "ipython",
    "version": 3
   },
   "file_extension": ".py",
   "mimetype": "text/x-python",
   "name": "python",
   "nbconvert_exporter": "python",
   "pygments_lexer": "ipython3",
   "version": "3.8.5-final"
  },
  "orig_nbformat": 2,
  "kernelspec": {
   "name": "python3",
   "display_name": "Python 3",
   "language": "python"
  }
 },
 "nbformat": 4,
 "nbformat_minor": 2,
 "cells": [
  {
   "source": [
    "# Exam project - CIFAR10"
   ],
   "cell_type": "markdown",
   "metadata": {}
  },
  {
   "source": [
    "## Setup"
   ],
   "cell_type": "markdown",
   "metadata": {}
  },
  {
   "cell_type": "code",
   "execution_count": 1,
   "metadata": {},
   "outputs": [],
   "source": [
    "# Common imports\n",
    "import sys\n",
    "import os\n",
    "import time\n",
    "import sklearn\n",
    "import numpy as np\n",
    "import pandas as pd\n",
    "import tensorflow as tf\n",
    "from tensorflow import keras\n",
    "\n",
    "# to make this notebook's output stable across runs\n",
    "np.random.seed(42)\n",
    "tf.random.set_seed(42)\n",
    "\n",
    "%matplotlib inline\n",
    "import matplotlib.pyplot as plt\n",
    "\n",
    "# Ignore useless warnings (see SciPy issue #5998)\n",
    "import warnings\n",
    "warnings.filterwarnings(action = \"ignore\", message = \"^internal gelsd\")"
   ]
  },
  {
   "source": [
    "## Load the data\n",
    "Keras has a number of functions to load popular datasets in keras.datasets. The dataset is already split for you between a training set and a test set."
   ],
   "cell_type": "markdown",
   "metadata": {}
  },
  {
   "cell_type": "code",
   "execution_count": 2,
   "metadata": {},
   "outputs": [],
   "source": [
    "cifar10 = keras.datasets.cifar10\n",
    "(data_train_full, label_train_full), (data_test, label_test) = cifar10.load_data()"
   ]
  },
  {
   "cell_type": "code",
   "execution_count": 3,
   "metadata": {},
   "outputs": [
    {
     "output_type": "stream",
     "name": "stdout",
     "text": [
      "Full set: (50000, 32, 32, 3)\n"
     ]
    }
   ],
   "source": [
    "# Show the size and dimension of the dataset. 50k element, 32x32 images, RGB color layers\n",
    "print('Full set:', data_train_full.shape)"
   ]
  },
  {
   "cell_type": "code",
   "execution_count": 4,
   "metadata": {},
   "outputs": [],
   "source": [
    "# Split the full training set into a validation set and a (smaller) training set, and scale the pixel intensities down to the 0-1 range and convert them to floats, by dividing by 255.0\n",
    "# validate: 0-5000, train: 5000-\n",
    "data_validation, data_train = data_train_full[:5000] / 255.0, data_train_full[5000:] / 255.0 \n",
    "label_validation, label_train = label_train_full[:5000], label_train_full[5000:]\n",
    "data_test = data_test / 255.0"
   ]
  },
  {
   "cell_type": "code",
   "execution_count": 5,
   "metadata": {},
   "outputs": [
    {
     "output_type": "stream",
     "name": "stdout",
     "text": [
      "Train: (45000, 32, 32, 3)\nValidate: (5000, 32, 32, 3)\n"
     ]
    }
   ],
   "source": [
    "print('Train:', data_train.shape)\n",
    "print('Validate:', data_validation.shape)"
   ]
  },
  {
   "cell_type": "code",
   "execution_count": 6,
   "metadata": {},
   "outputs": [
    {
     "output_type": "display_data",
     "data": {
      "text/plain": "<Figure size 432x288 with 1 Axes>",
      "image/svg+xml": "<?xml version=\"1.0\" encoding=\"utf-8\" standalone=\"no\"?>\r\n<!DOCTYPE svg PUBLIC \"-//W3C//DTD SVG 1.1//EN\"\r\n  \"http://www.w3.org/Graphics/SVG/1.1/DTD/svg11.dtd\">\r\n<!-- Created with matplotlib (https://matplotlib.org/) -->\r\n<svg height=\"231.84pt\" version=\"1.1\" viewBox=\"0 0 231.84 231.84\" width=\"231.84pt\" xmlns=\"http://www.w3.org/2000/svg\" xmlns:xlink=\"http://www.w3.org/1999/xlink\">\r\n <metadata>\r\n  <rdf:RDF xmlns:cc=\"http://creativecommons.org/ns#\" xmlns:dc=\"http://purl.org/dc/elements/1.1/\" xmlns:rdf=\"http://www.w3.org/1999/02/22-rdf-syntax-ns#\">\r\n   <cc:Work>\r\n    <dc:type rdf:resource=\"http://purl.org/dc/dcmitype/StillImage\"/>\r\n    <dc:date>2020-12-11T15:02:09.433833</dc:date>\r\n    <dc:format>image/svg+xml</dc:format>\r\n    <dc:creator>\r\n     <cc:Agent>\r\n      <dc:title>Matplotlib v3.3.2, https://matplotlib.org/</dc:title>\r\n     </cc:Agent>\r\n    </dc:creator>\r\n   </cc:Work>\r\n  </rdf:RDF>\r\n </metadata>\r\n <defs>\r\n  <style type=\"text/css\">*{stroke-linecap:butt;stroke-linejoin:round;}</style>\r\n </defs>\r\n <g id=\"figure_1\">\r\n  <g id=\"patch_1\">\r\n   <path d=\"M 0 231.84 \r\nL 231.84 231.84 \r\nL 231.84 0 \r\nL 0 0 \r\nz\r\n\" style=\"fill:none;\"/>\r\n  </g>\r\n  <g id=\"axes_1\">\r\n   <g clip-path=\"url(#pf0e1cd23a4)\">\r\n    <image height=\"218\" id=\"image90160d37a5\" transform=\"scale(1 -1)translate(0 -218)\" width=\"218\" x=\"7.2\" xlink:href=\"data:image/png;base64,\r\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\" y=\"-6.64\"/>\r\n   </g>\r\n  </g>\r\n </g>\r\n <defs>\r\n  <clipPath id=\"pf0e1cd23a4\">\r\n   <rect height=\"217.44\" width=\"217.44\" x=\"7.2\" y=\"7.2\"/>\r\n  </clipPath>\r\n </defs>\r\n</svg>\r\n",
      "image/png": "[encoded data removed]"
     },
     "metadata": {
      "needs_background": "light"
     }
    }
   ],
   "source": [
    "#Plot an image using Matplotlib's imshow() function\n",
    "plt.imshow(data_train[0])\n",
    "plt.axis('off')\n",
    "plt.show()"
   ]
  },
  {
   "cell_type": "code",
   "execution_count": 7,
   "metadata": {},
   "outputs": [
    {
     "output_type": "execute_result",
     "data": {
      "text/plain": [
       "'Frog'"
      ]
     },
     "metadata": {},
     "execution_count": 7
    }
   ],
   "source": [
    "class_names = [\"Airplane\", \"Automobile\", \"Bird\", \"Cat\", \"Deer\",\n",
    "               \"Dog\", \"Frog\", \"Horse\", \"Ship\", \"Truck\"]\n",
    "class_names[label_train[0][0]]"
   ]
  },
  {
   "source": [
    "## Standardize the data\n",
    "Because we want to use the SELU activation function and LeCun weight initializer, we should standardize all the input features to a mean of 0 and a standard deviation of 1. Since each pixel is an input feature, there are 28x28=784 input features, and we need to compute the mean and standard deviation for each of them."
   ],
   "cell_type": "markdown",
   "metadata": {}
  },
  {
   "cell_type": "code",
   "execution_count": 8,
   "metadata": {},
   "outputs": [
    {
     "output_type": "stream",
     "name": "stdout",
     "text": [
      "Means: (1, 32, 32, 3)\n",
      "Standard deviation: (1, 32, 32, 3)\n"
     ]
    }
   ],
   "source": [
    "# Compute the mean for each pixel.\n",
    "pixel_means = data_train.mean(axis = 0, keepdims = True)\n",
    "print('Means:', pixel_means.shape)\n",
    "\n",
    "# Compute the standard deviation for each pixel.\n",
    "pixel_stds = data_train.std(axis = 0, keepdims = True)\n",
    "print('Standard deviation:', pixel_stds.shape)"
   ]
  },
  {
   "cell_type": "code",
   "execution_count": 9,
   "metadata": {},
   "outputs": [],
   "source": [
    "# Scale the inputs to mean 0 and standard deviation 1 to achieve self-normalization with SELU and LeCun.\n",
    "data_train_standardized = (data_train - pixel_means) / pixel_stds\n",
    "data_validation_standardized = (data_validation - pixel_means) / pixel_stds\n",
    "data_test_standardized = (data_test - pixel_means) / pixel_stds"
   ]
  },
  {
   "cell_type": "code",
   "execution_count": 10,
   "metadata": {},
   "outputs": [
    {
     "output_type": "execute_result",
     "data": {
      "text/plain": [
       "array([[[[-1.26346538e-14,  3.83544900e-14, -1.45948340e-14],\n",
       "         [ 2.16892529e-14,  3.88299911e-14,  2.69281881e-14],\n",
       "         [ 3.47678923e-15,  4.16193598e-14,  3.18685522e-14],\n",
       "         ...,\n",
       "         [ 1.76495559e-14,  6.61919458e-14,  2.21680353e-14],\n",
       "         [ 1.66235371e-14,  4.96447476e-14,  3.16723191e-14],\n",
       "         [ 5.35746262e-15,  4.45144613e-14,  1.94159799e-14]],\n",
       "\n",
       "        [[-1.99349722e-14, -3.55779603e-15,  4.97943415e-15],\n",
       "         [ 8.87647980e-15,  5.65033699e-14,  3.09045777e-14],\n",
       "         [-5.48222702e-15,  5.33282455e-14,  1.60781906e-14],\n",
       "         ...,\n",
       "         [ 1.28854458e-15,  1.69432073e-14,  1.56435655e-14],\n",
       "         [-5.75694554e-15,  1.82706147e-14, -1.09884447e-15],\n",
       "         [-4.67727092e-15,  2.91203851e-14,  1.43271271e-14]],\n",
       "\n",
       "        [[-2.38230916e-14,  2.39115740e-14,  1.65502476e-14],\n",
       "         [ 1.54112772e-15,  5.32304225e-14,  3.12234189e-16],\n",
       "         [ 1.71493387e-14,  4.50213447e-14,  7.41992640e-15],\n",
       "         ...,\n",
       "         [-1.77874505e-15,  4.72152293e-14,  1.28525487e-14],\n",
       "         [-6.03147162e-15,  3.13038336e-14,  3.94043316e-15],\n",
       "         [-1.94002690e-14,  1.50302511e-14, -5.88925452e-15]],\n",
       "\n",
       "        ...,\n",
       "\n",
       "        [[-4.60960998e-14, -1.94454588e-14, -8.10382070e-14],\n",
       "         [-3.54677349e-14, -4.98424431e-14, -7.99850365e-14],\n",
       "         [-3.65975324e-14, -3.90230478e-14, -8.54803130e-14],\n",
       "         ...,\n",
       "         [-3.67897416e-14, -6.23728082e-14, -9.42505136e-14],\n",
       "         [-1.58437313e-14, -3.79363997e-14, -7.64520299e-14],\n",
       "         [-4.15772404e-14, -3.31281521e-14, -8.95977860e-14]],\n",
       "\n",
       "        [[-4.34805297e-14, -4.10451087e-14, -8.99513180e-14],\n",
       "         [-2.61402097e-14, -4.29036698e-14, -8.77437589e-14],\n",
       "         [-2.83665577e-14, -4.81265375e-14, -9.01708965e-14],\n",
       "         ...,\n",
       "         [-1.80138497e-14, -3.16927669e-14, -9.20452455e-14],\n",
       "         [-2.67316786e-14, -3.08060639e-14, -1.03972352e-13],\n",
       "         [-3.25662115e-14, -3.01285367e-14, -9.15512851e-14]],\n",
       "\n",
       "        [[-1.09369310e-14, -2.43294557e-14, -8.53288010e-14],\n",
       "         [-2.01748821e-14, -3.88763009e-14, -6.32546213e-14],\n",
       "         [-1.38689881e-14, -2.84715911e-14, -7.70930728e-14],\n",
       "         ...,\n",
       "         [-3.06231805e-14, -4.06397632e-14, -7.22581476e-14],\n",
       "         [-3.19223388e-14, -3.26851484e-14, -9.55062252e-14],\n",
       "         [-3.65882386e-14, -2.06118480e-14, -9.47159659e-14]]]])"
      ]
     },
     "metadata": {},
     "execution_count": 10
    }
   ],
   "source": [
    "# Validate that the mean is close to 0 for each pixel.\n",
    "data_train_standardized.mean(axis = 0, keepdims = True)"
   ]
  },
  {
   "cell_type": "code",
   "execution_count": 11,
   "metadata": {},
   "outputs": [
    {
     "output_type": "execute_result",
     "data": {
      "text/plain": [
       "array([[[[1., 1., 1.],\n",
       "         [1., 1., 1.],\n",
       "         [1., 1., 1.],\n",
       "         ...,\n",
       "         [1., 1., 1.],\n",
       "         [1., 1., 1.],\n",
       "         [1., 1., 1.]],\n",
       "\n",
       "        [[1., 1., 1.],\n",
       "         [1., 1., 1.],\n",
       "         [1., 1., 1.],\n",
       "         ...,\n",
       "         [1., 1., 1.],\n",
       "         [1., 1., 1.],\n",
       "         [1., 1., 1.]],\n",
       "\n",
       "        [[1., 1., 1.],\n",
       "         [1., 1., 1.],\n",
       "         [1., 1., 1.],\n",
       "         ...,\n",
       "         [1., 1., 1.],\n",
       "         [1., 1., 1.],\n",
       "         [1., 1., 1.]],\n",
       "\n",
       "        ...,\n",
       "\n",
       "        [[1., 1., 1.],\n",
       "         [1., 1., 1.],\n",
       "         [1., 1., 1.],\n",
       "         ...,\n",
       "         [1., 1., 1.],\n",
       "         [1., 1., 1.],\n",
       "         [1., 1., 1.]],\n",
       "\n",
       "        [[1., 1., 1.],\n",
       "         [1., 1., 1.],\n",
       "         [1., 1., 1.],\n",
       "         ...,\n",
       "         [1., 1., 1.],\n",
       "         [1., 1., 1.],\n",
       "         [1., 1., 1.]],\n",
       "\n",
       "        [[1., 1., 1.],\n",
       "         [1., 1., 1.],\n",
       "         [1., 1., 1.],\n",
       "         ...,\n",
       "         [1., 1., 1.],\n",
       "         [1., 1., 1.],\n",
       "         [1., 1., 1.]]]])"
      ]
     },
     "metadata": {},
     "execution_count": 11
    }
   ],
   "source": [
    "# Validate that the standard deviation is close to 1 for each pixel.\n",
    "data_train_standardized.std(axis = 0, keepdims = True)"
   ]
  },
  {
   "source": [
    "## Create the model using the Sequential API"
   ],
   "cell_type": "markdown",
   "metadata": {}
  },
  {
   "cell_type": "code",
   "execution_count": 12,
   "metadata": {},
   "outputs": [],
   "source": [
    "# Define the path for checkpoints and for saving the model.\n",
    "model_path = os.path.join('ml_exam_cifar10', 'best_model')"
   ]
  },
  {
   "source": [
    "# Load a previously trained model.\n",
    "model = keras.models.load_model(model_path)"
   ],
   "cell_type": "code",
   "metadata": {},
   "execution_count": null,
   "outputs": []
  },
  {
   "cell_type": "code",
   "execution_count": 13,
   "metadata": {},
   "outputs": [],
   "source": [
    "# Create a new model.\n",
    "model = keras.models.Sequential()\n",
    "\n",
    "# Input layer:\n",
    "model.add(keras.layers.Flatten(input_shape = [32, 32, 3]))\n",
    "\n",
    "# Hidden layers:\n",
    "model.add(keras.layers.Dense(500, activation = \"selu\", kernel_initializer = \"lecun_normal\"))\n",
    "\n",
    "# Use alpha dropout in the last hidden layer.\n",
    "model.add(keras.layers.AlphaDropout(rate = 0.2))\n",
    "    \n",
    "# Output layer.\n",
    "model.add(keras.layers.Dense(10, activation = \"softmax\"))"
   ]
  },
  {
   "source": [
    "## Compile the model\n",
    "You must at least specify the loss function and the optimizer to use. You can also specify a list of additional metrics to use during training and evaluation."
   ],
   "cell_type": "markdown",
   "metadata": {}
  },
  {
   "cell_type": "code",
   "execution_count": 14,
   "metadata": {},
   "outputs": [],
   "source": [
    "# The optimixer is Stochastic Gradient Descent with momentum optimization. The momentum is set to 0.9.\n",
    "# This value usually works well in practice. We use the default learning rate (0.01).\n",
    "model.compile(loss = \"sparse_categorical_crossentropy\",\n",
    "              optimizer = keras.optimizers.SGD(momentum = 0.9),\n",
    "              metrics = [\"accuracy\"])"
   ]
  },
  {
   "source": [
    "## Train the model"
   ],
   "cell_type": "markdown",
   "metadata": {}
  },
  {
   "cell_type": "code",
   "execution_count": 15,
   "metadata": {},
   "outputs": [
    {
     "output_type": "stream",
     "name": "stdout",
     "text": [
      "Epoch 1/50\n",
      "1407/1407 [==============================] - 7s 5ms/step - loss: 3.1185 - accuracy: 0.2657 - val_loss: 4.2504 - val_accuracy: 0.3152\n",
      "Epoch 2/50\n",
      "1407/1407 [==============================] - 6s 4ms/step - loss: 3.6711 - accuracy: 0.2881 - val_loss: 5.6241 - val_accuracy: 0.2908\n",
      "Epoch 3/50\n",
      "1407/1407 [==============================] - 6s 4ms/step - loss: 4.3670 - accuracy: 0.2902 - val_loss: 6.0627 - val_accuracy: 0.3268\n",
      "Epoch 4/50\n",
      "1407/1407 [==============================] - 7s 5ms/step - loss: 4.7121 - accuracy: 0.3041 - val_loss: 6.0768 - val_accuracy: 0.3296\n",
      "Epoch 5/50\n",
      "1407/1407 [==============================] - 7s 5ms/step - loss: 4.7945 - accuracy: 0.3118 - val_loss: 8.2603 - val_accuracy: 0.2876\n",
      "Epoch 6/50\n",
      "1407/1407 [==============================] - 7s 5ms/step - loss: 2.7430 - accuracy: 0.3862 - val_loss: 2.2751 - val_accuracy: 0.4304\n",
      "Epoch 7/50\n",
      "1407/1407 [==============================] - 6s 4ms/step - loss: 1.8994 - accuracy: 0.4269 - val_loss: 2.2577 - val_accuracy: 0.4366\n",
      "Epoch 8/50\n",
      "1407/1407 [==============================] - 6s 4ms/step - loss: 1.7705 - accuracy: 0.4494 - val_loss: 2.0823 - val_accuracy: 0.4482\n",
      "Epoch 9/50\n",
      "1407/1407 [==============================] - 6s 4ms/step - loss: 1.7199 - accuracy: 0.4587 - val_loss: 2.1595 - val_accuracy: 0.4486\n",
      "Epoch 10/50\n",
      "1407/1407 [==============================] - 6s 4ms/step - loss: 1.6670 - accuracy: 0.4739 - val_loss: 2.0816 - val_accuracy: 0.4618\n",
      "Epoch 11/50\n",
      "1407/1407 [==============================] - 6s 4ms/step - loss: 1.6321 - accuracy: 0.4853 - val_loss: 2.0467 - val_accuracy: 0.4692\n",
      "Epoch 12/50\n",
      "1407/1407 [==============================] - 7s 5ms/step - loss: 1.5895 - accuracy: 0.4952 - val_loss: 2.2583 - val_accuracy: 0.4552\n",
      "Epoch 13/50\n",
      "1407/1407 [==============================] - 6s 5ms/step - loss: 1.5617 - accuracy: 0.5005 - val_loss: 2.2693 - val_accuracy: 0.4408\n",
      "Epoch 14/50\n",
      "1407/1407 [==============================] - 6s 4ms/step - loss: 1.5352 - accuracy: 0.5116 - val_loss: 2.1676 - val_accuracy: 0.4554\n",
      "Epoch 15/50\n",
      "1407/1407 [==============================] - 6s 4ms/step - loss: 1.5037 - accuracy: 0.5197 - val_loss: 2.2863 - val_accuracy: 0.4518\n",
      "Epoch 16/50\n",
      "1407/1407 [==============================] - 6s 4ms/step - loss: 1.2472 - accuracy: 0.5769 - val_loss: 1.7115 - val_accuracy: 0.5234\n",
      "Epoch 17/50\n",
      "1407/1407 [==============================] - 6s 4ms/step - loss: 1.1187 - accuracy: 0.6125 - val_loss: 1.6941 - val_accuracy: 0.5390\n",
      "Epoch 18/50\n",
      "1407/1407 [==============================] - 6s 4ms/step - loss: 1.0848 - accuracy: 0.6235 - val_loss: 1.6806 - val_accuracy: 0.5338\n",
      "Epoch 19/50\n",
      "1407/1407 [==============================] - 6s 4ms/step - loss: 1.0607 - accuracy: 0.6346 - val_loss: 1.7409 - val_accuracy: 0.5240\n",
      "Epoch 20/50\n",
      "1407/1407 [==============================] - 6s 4ms/step - loss: 1.0503 - accuracy: 0.6354 - val_loss: 1.7824 - val_accuracy: 0.5322\n",
      "Epoch 21/50\n",
      "1407/1407 [==============================] - 6s 5ms/step - loss: 1.0293 - accuracy: 0.6425 - val_loss: 1.7543 - val_accuracy: 0.5352\n",
      "Epoch 22/50\n",
      "1407/1407 [==============================] - 6s 5ms/step - loss: 1.0196 - accuracy: 0.6475 - val_loss: 1.7163 - val_accuracy: 0.5358\n",
      "Epoch 23/50\n",
      "1407/1407 [==============================] - 7s 5ms/step - loss: 0.9044 - accuracy: 0.6821 - val_loss: 1.6354 - val_accuracy: 0.5534\n",
      "Epoch 24/50\n",
      "1407/1407 [==============================] - 6s 5ms/step - loss: 0.8517 - accuracy: 0.7016 - val_loss: 1.6648 - val_accuracy: 0.5516\n",
      "Epoch 25/50\n",
      "1407/1407 [==============================] - 6s 5ms/step - loss: 0.8467 - accuracy: 0.7023 - val_loss: 1.6480 - val_accuracy: 0.5572\n",
      "Epoch 26/50\n",
      "1407/1407 [==============================] - 7s 5ms/step - loss: 0.8289 - accuracy: 0.7100 - val_loss: 1.6952 - val_accuracy: 0.5580\n",
      "Epoch 27/50\n",
      "1407/1407 [==============================] - 7s 5ms/step - loss: 0.8142 - accuracy: 0.7141 - val_loss: 1.6625 - val_accuracy: 0.5564\n",
      "Epoch 28/50\n",
      "1407/1407 [==============================] - 7s 5ms/step - loss: 0.7726 - accuracy: 0.7277 - val_loss: 1.6305 - val_accuracy: 0.5636\n",
      "Epoch 29/50\n",
      "1407/1407 [==============================] - 7s 5ms/step - loss: 0.7553 - accuracy: 0.7313 - val_loss: 1.6179 - val_accuracy: 0.5748\n",
      "Epoch 30/50\n",
      "1407/1407 [==============================] - 7s 5ms/step - loss: 0.7406 - accuracy: 0.7376 - val_loss: 1.6191 - val_accuracy: 0.5686\n",
      "Epoch 31/50\n",
      "1407/1407 [==============================] - 7s 5ms/step - loss: 0.7401 - accuracy: 0.7406 - val_loss: 1.6610 - val_accuracy: 0.5688\n",
      "Epoch 32/50\n",
      "1407/1407 [==============================] - 6s 5ms/step - loss: 0.7259 - accuracy: 0.7443 - val_loss: 1.6665 - val_accuracy: 0.5692\n",
      "Epoch 33/50\n",
      "1407/1407 [==============================] - 7s 5ms/step - loss: 0.7251 - accuracy: 0.7459 - val_loss: 1.6684 - val_accuracy: 0.5670\n",
      "Epoch 34/50\n",
      "1407/1407 [==============================] - 7s 5ms/step - loss: 0.7034 - accuracy: 0.7489 - val_loss: 1.6435 - val_accuracy: 0.5712\n",
      "Epoch 35/50\n",
      "1407/1407 [==============================] - 7s 5ms/step - loss: 0.7018 - accuracy: 0.7553 - val_loss: 1.6473 - val_accuracy: 0.5656\n",
      "Epoch 36/50\n",
      "1407/1407 [==============================] - 7s 5ms/step - loss: 0.6931 - accuracy: 0.7585 - val_loss: 1.6371 - val_accuracy: 0.5710\n",
      "Epoch 37/50\n",
      "1407/1407 [==============================] - 7s 5ms/step - loss: 0.6790 - accuracy: 0.7627 - val_loss: 1.6556 - val_accuracy: 0.5722\n",
      "Epoch 38/50\n",
      "1407/1407 [==============================] - 7s 5ms/step - loss: 0.6762 - accuracy: 0.7634 - val_loss: 1.6497 - val_accuracy: 0.5730\n",
      "Epoch 39/50\n",
      "1407/1407 [==============================] - 7s 5ms/step - loss: 0.6669 - accuracy: 0.7634 - val_loss: 1.6506 - val_accuracy: 0.5764\n"
     ]
    }
   ],
   "source": [
    "# EarlyStopping (with rollback to the best model).\n",
    "early_stopping = keras.callbacks.EarlyStopping(patience = 10, restore_best_weights = True)\n",
    "\n",
    "# Performance scheduling (multiply the learning rate by a factor when the error stops dropping for a number of epochs, called patience)\n",
    "lr_scheduler = keras.callbacks.ReduceLROnPlateau(factor = 0.5, patience = 4)\n",
    "\n",
    "checkpoint = keras.callbacks.ModelCheckpoint(filepath = model_path, monitor = 'val_loss', save_best_only = True, )\n",
    "\n",
    "# Train the model with early stopping or performance scheduling or both. Training is much faster when early stopping is used, but a slightly better accuracy is achieved with performance scheduling alone.\n",
    "history = model.fit(data_train_standardized, label_train, epochs = 50,\n",
    "                    validation_data = (data_validation_standardized, label_validation),\n",
    "                    callbacks = [early_stopping, lr_scheduler, checkpoint])"
   ]
  },
  {
   "cell_type": "code",
   "execution_count": 16,
   "metadata": {},
   "outputs": [
    {
     "output_type": "display_data",
     "data": {
      "text/plain": "<Figure size 576x360 with 1 Axes>",
      "image/svg+xml": "<?xml version=\"1.0\" encoding=\"utf-8\" standalone=\"no\"?>\r\n<!DOCTYPE svg PUBLIC \"-//W3C//DTD SVG 1.1//EN\"\r\n  \"http://www.w3.org/Graphics/SVG/1.1/DTD/svg11.dtd\">\r\n<!-- Created with matplotlib (https://matplotlib.org/) -->\r\n<svg height=\"306.677344pt\" version=\"1.1\" viewBox=\"0 0 483.703125 306.677344\" width=\"483.703125pt\" xmlns=\"http://www.w3.org/2000/svg\" xmlns:xlink=\"http://www.w3.org/1999/xlink\">\r\n <metadata>\r\n  <rdf:RDF xmlns:cc=\"http://creativecommons.org/ns#\" xmlns:dc=\"http://purl.org/dc/elements/1.1/\" xmlns:rdf=\"http://www.w3.org/1999/02/22-rdf-syntax-ns#\">\r\n   <cc:Work>\r\n    <dc:type rdf:resource=\"http://purl.org/dc/dcmitype/StillImage\"/>\r\n    <dc:date>2020-12-11T15:08:25.632820</dc:date>\r\n    <dc:format>image/svg+xml</dc:format>\r\n    <dc:creator>\r\n     <cc:Agent>\r\n      <dc:title>Matplotlib v3.3.2, https://matplotlib.org/</dc:title>\r\n     </cc:Agent>\r\n    </dc:creator>\r\n   </cc:Work>\r\n  </rdf:RDF>\r\n </metadata>\r\n <defs>\r\n  <style type=\"text/css\">*{stroke-linecap:butt;stroke-linejoin:round;}</style>\r\n </defs>\r\n <g id=\"figure_1\">\r\n  <g id=\"patch_1\">\r\n   <path d=\"M 0 306.677344 \r\nL 483.703125 306.677344 \r\nL 483.703125 0 \r\nL 0 0 \r\nz\r\n\" style=\"fill:none;\"/>\r\n  </g>\r\n  <g id=\"axes_1\">\r\n   <g id=\"patch_2\">\r\n    <path d=\"M 30.103125 282.799219 \r\nL 476.503125 282.799219 \r\nL 476.503125 10.999219 \r\nL 30.103125 10.999219 \r\nz\r\n\" style=\"fill:#ffffff;\"/>\r\n   </g>\r\n   <g id=\"matplotlib.axis_1\">\r\n    <g id=\"xtick_1\">\r\n     <g id=\"line2d_1\">\r\n      <path clip-path=\"url(#p62ecf535fe)\" d=\"M 50.394034 282.799219 \r\nL 50.394034 10.999219 \r\n\" style=\"fill:none;stroke:#b0b0b0;stroke-linecap:square;stroke-width:0.8;\"/>\r\n     </g>\r\n     <g id=\"line2d_2\">\r\n      <defs>\r\n       <path d=\"M 0 0 \r\nL 0 3.5 \r\n\" id=\"m09a8726cef\" style=\"stroke:#000000;stroke-width:0.8;\"/>\r\n      </defs>\r\n      <g>\r\n       <use style=\"stroke:#000000;stroke-width:0.8;\" x=\"50.394034\" xlink:href=\"#m09a8726cef\" y=\"282.799219\"/>\r\n      </g>\r\n     </g>\r\n     <g id=\"text_1\">\r\n      <!-- 0 -->\r\n      <g transform=\"translate(47.212784 297.397656)scale(0.1 -0.1)\">\r\n       <defs>\r\n        <path d=\"M 31.78125 66.40625 \r\nQ 24.171875 66.40625 20.328125 58.90625 \r\nQ 16.5 51.421875 16.5 36.375 \r\nQ 16.5 21.390625 20.328125 13.890625 \r\nQ 24.171875 6.390625 31.78125 6.390625 \r\nQ 39.453125 6.390625 43.28125 13.890625 \r\nQ 47.125 21.390625 47.125 36.375 \r\nQ 47.125 51.421875 43.28125 58.90625 \r\nQ 39.453125 66.40625 31.78125 66.40625 \r\nz\r\nM 31.78125 74.21875 \r\nQ 44.046875 74.21875 50.515625 64.515625 \r\nQ 56.984375 54.828125 56.984375 36.375 \r\nQ 56.984375 17.96875 50.515625 8.265625 \r\nQ 44.046875 -1.421875 31.78125 -1.421875 \r\nQ 19.53125 -1.421875 13.0625 8.265625 \r\nQ 6.59375 17.96875 6.59375 36.375 \r\nQ 6.59375 54.828125 13.0625 64.515625 \r\nQ 19.53125 74.21875 31.78125 74.21875 \r\nz\r\n\" id=\"DejaVuSans-48\"/>\r\n       </defs>\r\n       <use xlink:href=\"#DejaVuSans-48\"/>\r\n      </g>\r\n     </g>\r\n    </g>\r\n    <g id=\"xtick_2\">\r\n     <g id=\"line2d_3\">\r\n      <path clip-path=\"url(#p62ecf535fe)\" d=\"M 103.791163 282.799219 \r\nL 103.791163 10.999219 \r\n\" style=\"fill:none;stroke:#b0b0b0;stroke-linecap:square;stroke-width:0.8;\"/>\r\n     </g>\r\n     <g id=\"line2d_4\">\r\n      <g>\r\n       <use style=\"stroke:#000000;stroke-width:0.8;\" x=\"103.791163\" xlink:href=\"#m09a8726cef\" y=\"282.799219\"/>\r\n      </g>\r\n     </g>\r\n     <g id=\"text_2\">\r\n      <!-- 5 -->\r\n      <g transform=\"translate(100.609913 297.397656)scale(0.1 -0.1)\">\r\n       <defs>\r\n        <path d=\"M 10.796875 72.90625 \r\nL 49.515625 72.90625 \r\nL 49.515625 64.59375 \r\nL 19.828125 64.59375 \r\nL 19.828125 46.734375 \r\nQ 21.96875 47.46875 24.109375 47.828125 \r\nQ 26.265625 48.1875 28.421875 48.1875 \r\nQ 40.625 48.1875 47.75 41.5 \r\nQ 54.890625 34.8125 54.890625 23.390625 \r\nQ 54.890625 11.625 47.5625 5.09375 \r\nQ 40.234375 -1.421875 26.90625 -1.421875 \r\nQ 22.3125 -1.421875 17.546875 -0.640625 \r\nQ 12.796875 0.140625 7.71875 1.703125 \r\nL 7.71875 11.625 \r\nQ 12.109375 9.234375 16.796875 8.0625 \r\nQ 21.484375 6.890625 26.703125 6.890625 \r\nQ 35.15625 6.890625 40.078125 11.328125 \r\nQ 45.015625 15.765625 45.015625 23.390625 \r\nQ 45.015625 31 40.078125 35.4375 \r\nQ 35.15625 39.890625 26.703125 39.890625 \r\nQ 22.75 39.890625 18.8125 39.015625 \r\nQ 14.890625 38.140625 10.796875 36.28125 \r\nz\r\n\" id=\"DejaVuSans-53\"/>\r\n       </defs>\r\n       <use xlink:href=\"#DejaVuSans-53\"/>\r\n      </g>\r\n     </g>\r\n    </g>\r\n    <g id=\"xtick_3\">\r\n     <g id=\"line2d_5\">\r\n      <path clip-path=\"url(#p62ecf535fe)\" d=\"M 157.188292 282.799219 \r\nL 157.188292 10.999219 \r\n\" style=\"fill:none;stroke:#b0b0b0;stroke-linecap:square;stroke-width:0.8;\"/>\r\n     </g>\r\n     <g id=\"line2d_6\">\r\n      <g>\r\n       <use style=\"stroke:#000000;stroke-width:0.8;\" x=\"157.188292\" xlink:href=\"#m09a8726cef\" y=\"282.799219\"/>\r\n      </g>\r\n     </g>\r\n     <g id=\"text_3\">\r\n      <!-- 10 -->\r\n      <g transform=\"translate(150.825792 297.397656)scale(0.1 -0.1)\">\r\n       <defs>\r\n        <path d=\"M 12.40625 8.296875 \r\nL 28.515625 8.296875 \r\nL 28.515625 63.921875 \r\nL 10.984375 60.40625 \r\nL 10.984375 69.390625 \r\nL 28.421875 72.90625 \r\nL 38.28125 72.90625 \r\nL 38.28125 8.296875 \r\nL 54.390625 8.296875 \r\nL 54.390625 0 \r\nL 12.40625 0 \r\nz\r\n\" id=\"DejaVuSans-49\"/>\r\n       </defs>\r\n       <use xlink:href=\"#DejaVuSans-49\"/>\r\n       <use x=\"63.623047\" xlink:href=\"#DejaVuSans-48\"/>\r\n      </g>\r\n     </g>\r\n    </g>\r\n    <g id=\"xtick_4\">\r\n     <g id=\"line2d_7\">\r\n      <path clip-path=\"url(#p62ecf535fe)\" d=\"M 210.585422 282.799219 \r\nL 210.585422 10.999219 \r\n\" style=\"fill:none;stroke:#b0b0b0;stroke-linecap:square;stroke-width:0.8;\"/>\r\n     </g>\r\n     <g id=\"line2d_8\">\r\n      <g>\r\n       <use style=\"stroke:#000000;stroke-width:0.8;\" x=\"210.585422\" xlink:href=\"#m09a8726cef\" y=\"282.799219\"/>\r\n      </g>\r\n     </g>\r\n     <g id=\"text_4\">\r\n      <!-- 15 -->\r\n      <g transform=\"translate(204.222922 297.397656)scale(0.1 -0.1)\">\r\n       <use xlink:href=\"#DejaVuSans-49\"/>\r\n       <use x=\"63.623047\" xlink:href=\"#DejaVuSans-53\"/>\r\n      </g>\r\n     </g>\r\n    </g>\r\n    <g id=\"xtick_5\">\r\n     <g id=\"line2d_9\">\r\n      <path clip-path=\"url(#p62ecf535fe)\" d=\"M 263.982551 282.799219 \r\nL 263.982551 10.999219 \r\n\" style=\"fill:none;stroke:#b0b0b0;stroke-linecap:square;stroke-width:0.8;\"/>\r\n     </g>\r\n     <g id=\"line2d_10\">\r\n      <g>\r\n       <use style=\"stroke:#000000;stroke-width:0.8;\" x=\"263.982551\" xlink:href=\"#m09a8726cef\" y=\"282.799219\"/>\r\n      </g>\r\n     </g>\r\n     <g id=\"text_5\">\r\n      <!-- 20 -->\r\n      <g transform=\"translate(257.620051 297.397656)scale(0.1 -0.1)\">\r\n       <defs>\r\n        <path d=\"M 19.1875 8.296875 \r\nL 53.609375 8.296875 \r\nL 53.609375 0 \r\nL 7.328125 0 \r\nL 7.328125 8.296875 \r\nQ 12.9375 14.109375 22.625 23.890625 \r\nQ 32.328125 33.6875 34.8125 36.53125 \r\nQ 39.546875 41.84375 41.421875 45.53125 \r\nQ 43.3125 49.21875 43.3125 52.78125 \r\nQ 43.3125 58.59375 39.234375 62.25 \r\nQ 35.15625 65.921875 28.609375 65.921875 \r\nQ 23.96875 65.921875 18.8125 64.3125 \r\nQ 13.671875 62.703125 7.8125 59.421875 \r\nL 7.8125 69.390625 \r\nQ 13.765625 71.78125 18.9375 73 \r\nQ 24.125 74.21875 28.421875 74.21875 \r\nQ 39.75 74.21875 46.484375 68.546875 \r\nQ 53.21875 62.890625 53.21875 53.421875 \r\nQ 53.21875 48.921875 51.53125 44.890625 \r\nQ 49.859375 40.875 45.40625 35.40625 \r\nQ 44.1875 33.984375 37.640625 27.21875 \r\nQ 31.109375 20.453125 19.1875 8.296875 \r\nz\r\n\" id=\"DejaVuSans-50\"/>\r\n       </defs>\r\n       <use xlink:href=\"#DejaVuSans-50\"/>\r\n       <use x=\"63.623047\" xlink:href=\"#DejaVuSans-48\"/>\r\n      </g>\r\n     </g>\r\n    </g>\r\n    <g id=\"xtick_6\">\r\n     <g id=\"line2d_11\">\r\n      <path clip-path=\"url(#p62ecf535fe)\" d=\"M 317.37968 282.799219 \r\nL 317.37968 10.999219 \r\n\" style=\"fill:none;stroke:#b0b0b0;stroke-linecap:square;stroke-width:0.8;\"/>\r\n     </g>\r\n     <g id=\"line2d_12\">\r\n      <g>\r\n       <use style=\"stroke:#000000;stroke-width:0.8;\" x=\"317.37968\" xlink:href=\"#m09a8726cef\" y=\"282.799219\"/>\r\n      </g>\r\n     </g>\r\n     <g id=\"text_6\">\r\n      <!-- 25 -->\r\n      <g transform=\"translate(311.01718 297.397656)scale(0.1 -0.1)\">\r\n       <use xlink:href=\"#DejaVuSans-50\"/>\r\n       <use x=\"63.623047\" xlink:href=\"#DejaVuSans-53\"/>\r\n      </g>\r\n     </g>\r\n    </g>\r\n    <g id=\"xtick_7\">\r\n     <g id=\"line2d_13\">\r\n      <path clip-path=\"url(#p62ecf535fe)\" d=\"M 370.776809 282.799219 \r\nL 370.776809 10.999219 \r\n\" style=\"fill:none;stroke:#b0b0b0;stroke-linecap:square;stroke-width:0.8;\"/>\r\n     </g>\r\n     <g id=\"line2d_14\">\r\n      <g>\r\n       <use style=\"stroke:#000000;stroke-width:0.8;\" x=\"370.776809\" xlink:href=\"#m09a8726cef\" y=\"282.799219\"/>\r\n      </g>\r\n     </g>\r\n     <g id=\"text_7\">\r\n      <!-- 30 -->\r\n      <g transform=\"translate(364.414309 297.397656)scale(0.1 -0.1)\">\r\n       <defs>\r\n        <path d=\"M 40.578125 39.3125 \r\nQ 47.65625 37.796875 51.625 33 \r\nQ 55.609375 28.21875 55.609375 21.1875 \r\nQ 55.609375 10.40625 48.1875 4.484375 \r\nQ 40.765625 -1.421875 27.09375 -1.421875 \r\nQ 22.515625 -1.421875 17.65625 -0.515625 \r\nQ 12.796875 0.390625 7.625 2.203125 \r\nL 7.625 11.71875 \r\nQ 11.71875 9.328125 16.59375 8.109375 \r\nQ 21.484375 6.890625 26.8125 6.890625 \r\nQ 36.078125 6.890625 40.9375 10.546875 \r\nQ 45.796875 14.203125 45.796875 21.1875 \r\nQ 45.796875 27.640625 41.28125 31.265625 \r\nQ 36.765625 34.90625 28.71875 34.90625 \r\nL 20.21875 34.90625 \r\nL 20.21875 43.015625 \r\nL 29.109375 43.015625 \r\nQ 36.375 43.015625 40.234375 45.921875 \r\nQ 44.09375 48.828125 44.09375 54.296875 \r\nQ 44.09375 59.90625 40.109375 62.90625 \r\nQ 36.140625 65.921875 28.71875 65.921875 \r\nQ 24.65625 65.921875 20.015625 65.03125 \r\nQ 15.375 64.15625 9.8125 62.3125 \r\nL 9.8125 71.09375 \r\nQ 15.4375 72.65625 20.34375 73.4375 \r\nQ 25.25 74.21875 29.59375 74.21875 \r\nQ 40.828125 74.21875 47.359375 69.109375 \r\nQ 53.90625 64.015625 53.90625 55.328125 \r\nQ 53.90625 49.265625 50.4375 45.09375 \r\nQ 46.96875 40.921875 40.578125 39.3125 \r\nz\r\n\" id=\"DejaVuSans-51\"/>\r\n       </defs>\r\n       <use xlink:href=\"#DejaVuSans-51\"/>\r\n       <use x=\"63.623047\" xlink:href=\"#DejaVuSans-48\"/>\r\n      </g>\r\n     </g>\r\n    </g>\r\n    <g id=\"xtick_8\">\r\n     <g id=\"line2d_15\">\r\n      <path clip-path=\"url(#p62ecf535fe)\" d=\"M 424.173938 282.799219 \r\nL 424.173938 10.999219 \r\n\" style=\"fill:none;stroke:#b0b0b0;stroke-linecap:square;stroke-width:0.8;\"/>\r\n     </g>\r\n     <g id=\"line2d_16\">\r\n      <g>\r\n       <use style=\"stroke:#000000;stroke-width:0.8;\" x=\"424.173938\" xlink:href=\"#m09a8726cef\" y=\"282.799219\"/>\r\n      </g>\r\n     </g>\r\n     <g id=\"text_8\">\r\n      <!-- 35 -->\r\n      <g transform=\"translate(417.811438 297.397656)scale(0.1 -0.1)\">\r\n       <use xlink:href=\"#DejaVuSans-51\"/>\r\n       <use x=\"63.623047\" xlink:href=\"#DejaVuSans-53\"/>\r\n      </g>\r\n     </g>\r\n    </g>\r\n   </g>\r\n   <g id=\"matplotlib.axis_2\">\r\n    <g id=\"ytick_1\">\r\n     <g id=\"line2d_17\">\r\n      <path clip-path=\"url(#p62ecf535fe)\" d=\"M 30.103125 282.799219 \r\nL 476.503125 282.799219 \r\n\" style=\"fill:none;stroke:#b0b0b0;stroke-linecap:square;stroke-width:0.8;\"/>\r\n     </g>\r\n     <g id=\"line2d_18\">\r\n      <defs>\r\n       <path d=\"M 0 0 \r\nL -3.5 0 \r\n\" id=\"ma58ff7ddea\" style=\"stroke:#000000;stroke-width:0.8;\"/>\r\n      </defs>\r\n      <g>\r\n       <use style=\"stroke:#000000;stroke-width:0.8;\" x=\"30.103125\" xlink:href=\"#ma58ff7ddea\" y=\"282.799219\"/>\r\n      </g>\r\n     </g>\r\n     <g id=\"text_9\">\r\n      <!-- 0.0 -->\r\n      <g transform=\"translate(7.2 286.598437)scale(0.1 -0.1)\">\r\n       <defs>\r\n        <path d=\"M 10.6875 12.40625 \r\nL 21 12.40625 \r\nL 21 0 \r\nL 10.6875 0 \r\nz\r\n\" id=\"DejaVuSans-46\"/>\r\n       </defs>\r\n       <use xlink:href=\"#DejaVuSans-48\"/>\r\n       <use x=\"63.623047\" xlink:href=\"#DejaVuSans-46\"/>\r\n       <use x=\"95.410156\" xlink:href=\"#DejaVuSans-48\"/>\r\n      </g>\r\n     </g>\r\n    </g>\r\n    <g id=\"ytick_2\">\r\n     <g id=\"line2d_19\">\r\n      <path clip-path=\"url(#p62ecf535fe)\" d=\"M 30.103125 228.439219 \r\nL 476.503125 228.439219 \r\n\" style=\"fill:none;stroke:#b0b0b0;stroke-linecap:square;stroke-width:0.8;\"/>\r\n     </g>\r\n     <g id=\"line2d_20\">\r\n      <g>\r\n       <use style=\"stroke:#000000;stroke-width:0.8;\" x=\"30.103125\" xlink:href=\"#ma58ff7ddea\" y=\"228.439219\"/>\r\n      </g>\r\n     </g>\r\n     <g id=\"text_10\">\r\n      <!-- 0.2 -->\r\n      <g transform=\"translate(7.2 232.238437)scale(0.1 -0.1)\">\r\n       <use xlink:href=\"#DejaVuSans-48\"/>\r\n       <use x=\"63.623047\" xlink:href=\"#DejaVuSans-46\"/>\r\n       <use x=\"95.410156\" xlink:href=\"#DejaVuSans-50\"/>\r\n      </g>\r\n     </g>\r\n    </g>\r\n    <g id=\"ytick_3\">\r\n     <g id=\"line2d_21\">\r\n      <path clip-path=\"url(#p62ecf535fe)\" d=\"M 30.103125 174.079219 \r\nL 476.503125 174.079219 \r\n\" style=\"fill:none;stroke:#b0b0b0;stroke-linecap:square;stroke-width:0.8;\"/>\r\n     </g>\r\n     <g id=\"line2d_22\">\r\n      <g>\r\n       <use style=\"stroke:#000000;stroke-width:0.8;\" x=\"30.103125\" xlink:href=\"#ma58ff7ddea\" y=\"174.079219\"/>\r\n      </g>\r\n     </g>\r\n     <g id=\"text_11\">\r\n      <!-- 0.4 -->\r\n      <g transform=\"translate(7.2 177.878437)scale(0.1 -0.1)\">\r\n       <defs>\r\n        <path d=\"M 37.796875 64.3125 \r\nL 12.890625 25.390625 \r\nL 37.796875 25.390625 \r\nz\r\nM 35.203125 72.90625 \r\nL 47.609375 72.90625 \r\nL 47.609375 25.390625 \r\nL 58.015625 25.390625 \r\nL 58.015625 17.1875 \r\nL 47.609375 17.1875 \r\nL 47.609375 0 \r\nL 37.796875 0 \r\nL 37.796875 17.1875 \r\nL 4.890625 17.1875 \r\nL 4.890625 26.703125 \r\nz\r\n\" id=\"DejaVuSans-52\"/>\r\n       </defs>\r\n       <use xlink:href=\"#DejaVuSans-48\"/>\r\n       <use x=\"63.623047\" xlink:href=\"#DejaVuSans-46\"/>\r\n       <use x=\"95.410156\" xlink:href=\"#DejaVuSans-52\"/>\r\n      </g>\r\n     </g>\r\n    </g>\r\n    <g id=\"ytick_4\">\r\n     <g id=\"line2d_23\">\r\n      <path clip-path=\"url(#p62ecf535fe)\" d=\"M 30.103125 119.719219 \r\nL 476.503125 119.719219 \r\n\" style=\"fill:none;stroke:#b0b0b0;stroke-linecap:square;stroke-width:0.8;\"/>\r\n     </g>\r\n     <g id=\"line2d_24\">\r\n      <g>\r\n       <use style=\"stroke:#000000;stroke-width:0.8;\" x=\"30.103125\" xlink:href=\"#ma58ff7ddea\" y=\"119.719219\"/>\r\n      </g>\r\n     </g>\r\n     <g id=\"text_12\">\r\n      <!-- 0.6 -->\r\n      <g transform=\"translate(7.2 123.518437)scale(0.1 -0.1)\">\r\n       <defs>\r\n        <path d=\"M 33.015625 40.375 \r\nQ 26.375 40.375 22.484375 35.828125 \r\nQ 18.609375 31.296875 18.609375 23.390625 \r\nQ 18.609375 15.53125 22.484375 10.953125 \r\nQ 26.375 6.390625 33.015625 6.390625 \r\nQ 39.65625 6.390625 43.53125 10.953125 \r\nQ 47.40625 15.53125 47.40625 23.390625 \r\nQ 47.40625 31.296875 43.53125 35.828125 \r\nQ 39.65625 40.375 33.015625 40.375 \r\nz\r\nM 52.59375 71.296875 \r\nL 52.59375 62.3125 \r\nQ 48.875 64.0625 45.09375 64.984375 \r\nQ 41.3125 65.921875 37.59375 65.921875 \r\nQ 27.828125 65.921875 22.671875 59.328125 \r\nQ 17.53125 52.734375 16.796875 39.40625 \r\nQ 19.671875 43.65625 24.015625 45.921875 \r\nQ 28.375 48.1875 33.59375 48.1875 \r\nQ 44.578125 48.1875 50.953125 41.515625 \r\nQ 57.328125 34.859375 57.328125 23.390625 \r\nQ 57.328125 12.15625 50.6875 5.359375 \r\nQ 44.046875 -1.421875 33.015625 -1.421875 \r\nQ 20.359375 -1.421875 13.671875 8.265625 \r\nQ 6.984375 17.96875 6.984375 36.375 \r\nQ 6.984375 53.65625 15.1875 63.9375 \r\nQ 23.390625 74.21875 37.203125 74.21875 \r\nQ 40.921875 74.21875 44.703125 73.484375 \r\nQ 48.484375 72.75 52.59375 71.296875 \r\nz\r\n\" id=\"DejaVuSans-54\"/>\r\n       </defs>\r\n       <use xlink:href=\"#DejaVuSans-48\"/>\r\n       <use x=\"63.623047\" xlink:href=\"#DejaVuSans-46\"/>\r\n       <use x=\"95.410156\" xlink:href=\"#DejaVuSans-54\"/>\r\n      </g>\r\n     </g>\r\n    </g>\r\n    <g id=\"ytick_5\">\r\n     <g id=\"line2d_25\">\r\n      <path clip-path=\"url(#p62ecf535fe)\" d=\"M 30.103125 65.359219 \r\nL 476.503125 65.359219 \r\n\" style=\"fill:none;stroke:#b0b0b0;stroke-linecap:square;stroke-width:0.8;\"/>\r\n     </g>\r\n     <g id=\"line2d_26\">\r\n      <g>\r\n       <use style=\"stroke:#000000;stroke-width:0.8;\" x=\"30.103125\" xlink:href=\"#ma58ff7ddea\" y=\"65.359219\"/>\r\n      </g>\r\n     </g>\r\n     <g id=\"text_13\">\r\n      <!-- 0.8 -->\r\n      <g transform=\"translate(7.2 69.158437)scale(0.1 -0.1)\">\r\n       <defs>\r\n        <path d=\"M 31.78125 34.625 \r\nQ 24.75 34.625 20.71875 30.859375 \r\nQ 16.703125 27.09375 16.703125 20.515625 \r\nQ 16.703125 13.921875 20.71875 10.15625 \r\nQ 24.75 6.390625 31.78125 6.390625 \r\nQ 38.8125 6.390625 42.859375 10.171875 \r\nQ 46.921875 13.96875 46.921875 20.515625 \r\nQ 46.921875 27.09375 42.890625 30.859375 \r\nQ 38.875 34.625 31.78125 34.625 \r\nz\r\nM 21.921875 38.8125 \r\nQ 15.578125 40.375 12.03125 44.71875 \r\nQ 8.5 49.078125 8.5 55.328125 \r\nQ 8.5 64.0625 14.71875 69.140625 \r\nQ 20.953125 74.21875 31.78125 74.21875 \r\nQ 42.671875 74.21875 48.875 69.140625 \r\nQ 55.078125 64.0625 55.078125 55.328125 \r\nQ 55.078125 49.078125 51.53125 44.71875 \r\nQ 48 40.375 41.703125 38.8125 \r\nQ 48.828125 37.15625 52.796875 32.3125 \r\nQ 56.78125 27.484375 56.78125 20.515625 \r\nQ 56.78125 9.90625 50.3125 4.234375 \r\nQ 43.84375 -1.421875 31.78125 -1.421875 \r\nQ 19.734375 -1.421875 13.25 4.234375 \r\nQ 6.78125 9.90625 6.78125 20.515625 \r\nQ 6.78125 27.484375 10.78125 32.3125 \r\nQ 14.796875 37.15625 21.921875 38.8125 \r\nz\r\nM 18.3125 54.390625 \r\nQ 18.3125 48.734375 21.84375 45.5625 \r\nQ 25.390625 42.390625 31.78125 42.390625 \r\nQ 38.140625 42.390625 41.71875 45.5625 \r\nQ 45.3125 48.734375 45.3125 54.390625 \r\nQ 45.3125 60.0625 41.71875 63.234375 \r\nQ 38.140625 66.40625 31.78125 66.40625 \r\nQ 25.390625 66.40625 21.84375 63.234375 \r\nQ 18.3125 60.0625 18.3125 54.390625 \r\nz\r\n\" id=\"DejaVuSans-56\"/>\r\n       </defs>\r\n       <use xlink:href=\"#DejaVuSans-48\"/>\r\n       <use x=\"63.623047\" xlink:href=\"#DejaVuSans-46\"/>\r\n       <use x=\"95.410156\" xlink:href=\"#DejaVuSans-56\"/>\r\n      </g>\r\n     </g>\r\n    </g>\r\n    <g id=\"ytick_6\">\r\n     <g id=\"line2d_27\">\r\n      <path clip-path=\"url(#p62ecf535fe)\" d=\"M 30.103125 10.999219 \r\nL 476.503125 10.999219 \r\n\" style=\"fill:none;stroke:#b0b0b0;stroke-linecap:square;stroke-width:0.8;\"/>\r\n     </g>\r\n     <g id=\"line2d_28\">\r\n      <g>\r\n       <use style=\"stroke:#000000;stroke-width:0.8;\" x=\"30.103125\" xlink:href=\"#ma58ff7ddea\" y=\"10.999219\"/>\r\n      </g>\r\n     </g>\r\n     <g id=\"text_14\">\r\n      <!-- 1.0 -->\r\n      <g transform=\"translate(7.2 14.798437)scale(0.1 -0.1)\">\r\n       <use xlink:href=\"#DejaVuSans-49\"/>\r\n       <use x=\"63.623047\" xlink:href=\"#DejaVuSans-46\"/>\r\n       <use x=\"95.410156\" xlink:href=\"#DejaVuSans-48\"/>\r\n      </g>\r\n     </g>\r\n    </g>\r\n   </g>\r\n   <g id=\"line2d_29\">\r\n    <path clip-path=\"url(#p62ecf535fe)\" d=\"M 268.158657 -1 \r\nL 274.661977 2.638475 \r\nL 285.341403 37.455061 \r\nL 296.020828 46.925234 \r\nL 306.700254 49.546336 \r\nL 317.37968 52.56333 \r\nL 328.059106 55.630919 \r\nL 338.738532 72.267046 \r\nL 349.417958 75.809651 \r\nL 360.097383 77.875657 \r\nL 370.776809 81.224196 \r\nL 381.456235 81.352213 \r\nL 392.135661 83.872693 \r\nL 402.815087 92.102374 \r\nL 413.494513 92.03754 \r\nL 424.173938 93.636371 \r\nL 434.853364 95.729336 \r\nL 445.53279 98.859847 \r\nL 456.212216 100.009454 \r\n\" style=\"fill:none;stroke:#1f77b4;stroke-linecap:square;stroke-width:1.5;\"/>\r\n   </g>\r\n   <g id=\"line2d_30\">\r\n    <path clip-path=\"url(#p62ecf535fe)\" d=\"M 50.394034 207.957581 \r\nL 61.07346 203.651055 \r\nL 71.752886 202.998741 \r\nL 82.432312 199.815658 \r\nL 93.111737 198.547261 \r\nL 103.791163 173.052419 \r\nL 114.470589 165.387659 \r\nL 125.150015 160.465059 \r\nL 135.829441 157.064541 \r\nL 146.508867 154.370698 \r\nL 157.188292 152.250655 \r\nL 167.867718 148.318621 \r\nL 178.547144 146.621379 \r\nL 189.22657 144.863734 \r\nL 199.905996 142.000774 \r\nL 210.585422 122.286221 \r\nL 221.264847 117.375707 \r\nL 231.944273 115.032185 \r\nL 242.623699 112.483305 \r\nL 253.303125 111.686011 \r\nL 263.982551 109.747179 \r\nL 274.661977 107.621101 \r\nL 285.341403 97.250421 \r\nL 296.020828 93.759301 \r\nL 306.700254 93.626424 \r\nL 317.37968 92.086222 \r\nL 328.059106 90.775534 \r\nL 338.738532 85.381822 \r\nL 349.417958 84.355016 \r\nL 360.097383 83.14098 \r\nL 370.776809 82.035665 \r\nL 381.456235 82.253093 \r\nL 392.135661 80.869939 \r\nL 402.815087 78.466021 \r\nL 413.494513 78.139856 \r\nL 424.173938 77.131178 \r\nL 434.853364 76.376184 \r\nL 445.53279 75.639302 \r\nL 456.212216 75.627217 \r\n\" style=\"fill:none;stroke:#ff7f0e;stroke-linecap:square;stroke-width:1.5;\"/>\r\n   </g>\r\n   <g id=\"line2d_31\">\r\n    <path clip-path=\"url(#p62ecf535fe)\" style=\"fill:none;stroke:#2ca02c;stroke-linecap:square;stroke-width:1.5;\"/>\r\n   </g>\r\n   <g id=\"line2d_32\">\r\n    <path clip-path=\"url(#p62ecf535fe)\" d=\"M 50.394034 197.127858 \r\nL 61.07346 203.759777 \r\nL 71.752886 193.974982 \r\nL 82.432312 193.213937 \r\nL 93.111737 204.629536 \r\nL 103.791163 165.816495 \r\nL 114.470589 164.131339 \r\nL 125.150015 160.978462 \r\nL 135.829441 160.86974 \r\nL 146.508867 157.281976 \r\nL 157.188292 155.270663 \r\nL 167.867718 159.075862 \r\nL 178.547144 162.989776 \r\nL 189.22657 159.021501 \r\nL 199.905996 159.999982 \r\nL 210.585422 140.539096 \r\nL 221.264847 136.299026 \r\nL 231.944273 137.712377 \r\nL 242.623699 140.376022 \r\nL 253.303125 138.147265 \r\nL 263.982551 137.331859 \r\nL 274.661977 137.168784 \r\nL 285.341403 132.385104 \r\nL 296.020828 132.874344 \r\nL 306.700254 131.352255 \r\nL 317.37968 131.134811 \r\nL 328.059106 131.569698 \r\nL 338.738532 129.612738 \r\nL 349.417958 126.568575 \r\nL 360.097383 128.253739 \r\nL 370.776809 128.199386 \r\nL 381.456235 128.090664 \r\nL 392.135661 128.688626 \r\nL 402.815087 127.547055 \r\nL 413.494513 129.069145 \r\nL 424.173938 127.601424 \r\nL 434.853364 127.275259 \r\nL 445.53279 127.057815 \r\nL 456.212216 126.133704 \r\n\" style=\"fill:none;stroke:#d62728;stroke-linecap:square;stroke-width:1.5;\"/>\r\n   </g>\r\n   <g id=\"line2d_33\">\r\n    <path clip-path=\"url(#p62ecf535fe)\" d=\"M 50.394034 280.081219 \r\nL 61.07346 280.081219 \r\nL 71.752886 280.081219 \r\nL 82.432312 280.081219 \r\nL 93.111737 280.081219 \r\nL 103.791163 281.440219 \r\nL 114.470589 281.440219 \r\nL 125.150015 281.440219 \r\nL 135.829441 281.440219 \r\nL 146.508867 281.440219 \r\nL 157.188292 281.440219 \r\nL 167.867718 281.440219 \r\nL 178.547144 281.440219 \r\nL 189.22657 281.440219 \r\nL 199.905996 281.440219 \r\nL 210.585422 282.119719 \r\nL 221.264847 282.119719 \r\nL 231.944273 282.119719 \r\nL 242.623699 282.119719 \r\nL 253.303125 282.119719 \r\nL 263.982551 282.119719 \r\nL 274.661977 282.119719 \r\nL 285.341403 282.459469 \r\nL 296.020828 282.459469 \r\nL 306.700254 282.459469 \r\nL 317.37968 282.459469 \r\nL 328.059106 282.459469 \r\nL 338.738532 282.629344 \r\nL 349.417958 282.629344 \r\nL 360.097383 282.629344 \r\nL 370.776809 282.629344 \r\nL 381.456235 282.629344 \r\nL 392.135661 282.629344 \r\nL 402.815087 282.714281 \r\nL 413.494513 282.714281 \r\nL 424.173938 282.714281 \r\nL 434.853364 282.714281 \r\nL 445.53279 282.75675 \r\nL 456.212216 282.75675 \r\n\" style=\"fill:none;stroke:#9467bd;stroke-linecap:square;stroke-width:1.5;\"/>\r\n   </g>\r\n   <g id=\"patch_3\">\r\n    <path d=\"M 30.103125 282.799219 \r\nL 30.103125 10.999219 \r\n\" style=\"fill:none;stroke:#000000;stroke-linecap:square;stroke-linejoin:miter;stroke-width:0.8;\"/>\r\n   </g>\r\n   <g id=\"patch_4\">\r\n    <path d=\"M 476.503125 282.799219 \r\nL 476.503125 10.999219 \r\n\" style=\"fill:none;stroke:#000000;stroke-linecap:square;stroke-linejoin:miter;stroke-width:0.8;\"/>\r\n   </g>\r\n   <g id=\"patch_5\">\r\n    <path d=\"M 30.103125 282.799219 \r\nL 476.503125 282.799219 \r\n\" style=\"fill:none;stroke:#000000;stroke-linecap:square;stroke-linejoin:miter;stroke-width:0.8;\"/>\r\n   </g>\r\n   <g id=\"patch_6\">\r\n    <path d=\"M 30.103125 10.999219 \r\nL 476.503125 10.999219 \r\n\" style=\"fill:none;stroke:#000000;stroke-linecap:square;stroke-linejoin:miter;stroke-width:0.8;\"/>\r\n   </g>\r\n   <g id=\"legend_1\">\r\n    <g id=\"patch_7\">\r\n     <path d=\"M 37.103125 92.946094 \r\nL 134.046875 92.946094 \r\nQ 136.046875 92.946094 136.046875 90.946094 \r\nL 136.046875 17.999219 \r\nQ 136.046875 15.999219 134.046875 15.999219 \r\nL 37.103125 15.999219 \r\nQ 35.103125 15.999219 35.103125 17.999219 \r\nL 35.103125 90.946094 \r\nQ 35.103125 92.946094 37.103125 92.946094 \r\nz\r\n\" style=\"fill:#ffffff;opacity:0.8;stroke:#cccccc;stroke-linejoin:miter;\"/>\r\n    </g>\r\n    <g id=\"line2d_34\">\r\n     <path d=\"M 39.103125 24.097656 \r\nL 59.103125 24.097656 \r\n\" style=\"fill:none;stroke:#1f77b4;stroke-linecap:square;stroke-width:1.5;\"/>\r\n    </g>\r\n    <g id=\"line2d_35\"/>\r\n    <g id=\"text_15\">\r\n     <!-- loss -->\r\n     <g transform=\"translate(67.103125 27.597656)scale(0.1 -0.1)\">\r\n      <defs>\r\n       <path d=\"M 9.421875 75.984375 \r\nL 18.40625 75.984375 \r\nL 18.40625 0 \r\nL 9.421875 0 \r\nz\r\n\" id=\"DejaVuSans-108\"/>\r\n       <path d=\"M 30.609375 48.390625 \r\nQ 23.390625 48.390625 19.1875 42.75 \r\nQ 14.984375 37.109375 14.984375 27.296875 \r\nQ 14.984375 17.484375 19.15625 11.84375 \r\nQ 23.34375 6.203125 30.609375 6.203125 \r\nQ 37.796875 6.203125 41.984375 11.859375 \r\nQ 46.1875 17.53125 46.1875 27.296875 \r\nQ 46.1875 37.015625 41.984375 42.703125 \r\nQ 37.796875 48.390625 30.609375 48.390625 \r\nz\r\nM 30.609375 56 \r\nQ 42.328125 56 49.015625 48.375 \r\nQ 55.71875 40.765625 55.71875 27.296875 \r\nQ 55.71875 13.875 49.015625 6.21875 \r\nQ 42.328125 -1.421875 30.609375 -1.421875 \r\nQ 18.84375 -1.421875 12.171875 6.21875 \r\nQ 5.515625 13.875 5.515625 27.296875 \r\nQ 5.515625 40.765625 12.171875 48.375 \r\nQ 18.84375 56 30.609375 56 \r\nz\r\n\" id=\"DejaVuSans-111\"/>\r\n       <path d=\"M 44.28125 53.078125 \r\nL 44.28125 44.578125 \r\nQ 40.484375 46.53125 36.375 47.5 \r\nQ 32.28125 48.484375 27.875 48.484375 \r\nQ 21.1875 48.484375 17.84375 46.4375 \r\nQ 14.5 44.390625 14.5 40.28125 \r\nQ 14.5 37.15625 16.890625 35.375 \r\nQ 19.28125 33.59375 26.515625 31.984375 \r\nL 29.59375 31.296875 \r\nQ 39.15625 29.25 43.1875 25.515625 \r\nQ 47.21875 21.78125 47.21875 15.09375 \r\nQ 47.21875 7.46875 41.1875 3.015625 \r\nQ 35.15625 -1.421875 24.609375 -1.421875 \r\nQ 20.21875 -1.421875 15.453125 -0.5625 \r\nQ 10.6875 0.296875 5.421875 2 \r\nL 5.421875 11.28125 \r\nQ 10.40625 8.6875 15.234375 7.390625 \r\nQ 20.0625 6.109375 24.8125 6.109375 \r\nQ 31.15625 6.109375 34.5625 8.28125 \r\nQ 37.984375 10.453125 37.984375 14.40625 \r\nQ 37.984375 18.0625 35.515625 20.015625 \r\nQ 33.0625 21.96875 24.703125 23.78125 \r\nL 21.578125 24.515625 \r\nQ 13.234375 26.265625 9.515625 29.90625 \r\nQ 5.8125 33.546875 5.8125 39.890625 \r\nQ 5.8125 47.609375 11.28125 51.796875 \r\nQ 16.75 56 26.8125 56 \r\nQ 31.78125 56 36.171875 55.265625 \r\nQ 40.578125 54.546875 44.28125 53.078125 \r\nz\r\n\" id=\"DejaVuSans-115\"/>\r\n      </defs>\r\n      <use xlink:href=\"#DejaVuSans-108\"/>\r\n      <use x=\"27.783203\" xlink:href=\"#DejaVuSans-111\"/>\r\n      <use x=\"88.964844\" xlink:href=\"#DejaVuSans-115\"/>\r\n      <use x=\"141.064453\" xlink:href=\"#DejaVuSans-115\"/>\r\n     </g>\r\n    </g>\r\n    <g id=\"line2d_36\">\r\n     <path d=\"M 39.103125 38.775781 \r\nL 59.103125 38.775781 \r\n\" style=\"fill:none;stroke:#ff7f0e;stroke-linecap:square;stroke-width:1.5;\"/>\r\n    </g>\r\n    <g id=\"line2d_37\"/>\r\n    <g id=\"text_16\">\r\n     <!-- accuracy -->\r\n     <g transform=\"translate(67.103125 42.275781)scale(0.1 -0.1)\">\r\n      <defs>\r\n       <path d=\"M 34.28125 27.484375 \r\nQ 23.390625 27.484375 19.1875 25 \r\nQ 14.984375 22.515625 14.984375 16.5 \r\nQ 14.984375 11.71875 18.140625 8.90625 \r\nQ 21.296875 6.109375 26.703125 6.109375 \r\nQ 34.1875 6.109375 38.703125 11.40625 \r\nQ 43.21875 16.703125 43.21875 25.484375 \r\nL 43.21875 27.484375 \r\nz\r\nM 52.203125 31.203125 \r\nL 52.203125 0 \r\nL 43.21875 0 \r\nL 43.21875 8.296875 \r\nQ 40.140625 3.328125 35.546875 0.953125 \r\nQ 30.953125 -1.421875 24.3125 -1.421875 \r\nQ 15.921875 -1.421875 10.953125 3.296875 \r\nQ 6 8.015625 6 15.921875 \r\nQ 6 25.140625 12.171875 29.828125 \r\nQ 18.359375 34.515625 30.609375 34.515625 \r\nL 43.21875 34.515625 \r\nL 43.21875 35.40625 \r\nQ 43.21875 41.609375 39.140625 45 \r\nQ 35.0625 48.390625 27.6875 48.390625 \r\nQ 23 48.390625 18.546875 47.265625 \r\nQ 14.109375 46.140625 10.015625 43.890625 \r\nL 10.015625 52.203125 \r\nQ 14.9375 54.109375 19.578125 55.046875 \r\nQ 24.21875 56 28.609375 56 \r\nQ 40.484375 56 46.34375 49.84375 \r\nQ 52.203125 43.703125 52.203125 31.203125 \r\nz\r\n\" id=\"DejaVuSans-97\"/>\r\n       <path d=\"M 48.78125 52.59375 \r\nL 48.78125 44.1875 \r\nQ 44.96875 46.296875 41.140625 47.34375 \r\nQ 37.3125 48.390625 33.40625 48.390625 \r\nQ 24.65625 48.390625 19.8125 42.84375 \r\nQ 14.984375 37.3125 14.984375 27.296875 \r\nQ 14.984375 17.28125 19.8125 11.734375 \r\nQ 24.65625 6.203125 33.40625 6.203125 \r\nQ 37.3125 6.203125 41.140625 7.25 \r\nQ 44.96875 8.296875 48.78125 10.40625 \r\nL 48.78125 2.09375 \r\nQ 45.015625 0.34375 40.984375 -0.53125 \r\nQ 36.96875 -1.421875 32.421875 -1.421875 \r\nQ 20.0625 -1.421875 12.78125 6.34375 \r\nQ 5.515625 14.109375 5.515625 27.296875 \r\nQ 5.515625 40.671875 12.859375 48.328125 \r\nQ 20.21875 56 33.015625 56 \r\nQ 37.15625 56 41.109375 55.140625 \r\nQ 45.0625 54.296875 48.78125 52.59375 \r\nz\r\n\" id=\"DejaVuSans-99\"/>\r\n       <path d=\"M 8.5 21.578125 \r\nL 8.5 54.6875 \r\nL 17.484375 54.6875 \r\nL 17.484375 21.921875 \r\nQ 17.484375 14.15625 20.5 10.265625 \r\nQ 23.53125 6.390625 29.59375 6.390625 \r\nQ 36.859375 6.390625 41.078125 11.03125 \r\nQ 45.3125 15.671875 45.3125 23.6875 \r\nL 45.3125 54.6875 \r\nL 54.296875 54.6875 \r\nL 54.296875 0 \r\nL 45.3125 0 \r\nL 45.3125 8.40625 \r\nQ 42.046875 3.421875 37.71875 1 \r\nQ 33.40625 -1.421875 27.6875 -1.421875 \r\nQ 18.265625 -1.421875 13.375 4.4375 \r\nQ 8.5 10.296875 8.5 21.578125 \r\nz\r\nM 31.109375 56 \r\nz\r\n\" id=\"DejaVuSans-117\"/>\r\n       <path d=\"M 41.109375 46.296875 \r\nQ 39.59375 47.171875 37.8125 47.578125 \r\nQ 36.03125 48 33.890625 48 \r\nQ 26.265625 48 22.1875 43.046875 \r\nQ 18.109375 38.09375 18.109375 28.8125 \r\nL 18.109375 0 \r\nL 9.078125 0 \r\nL 9.078125 54.6875 \r\nL 18.109375 54.6875 \r\nL 18.109375 46.1875 \r\nQ 20.953125 51.171875 25.484375 53.578125 \r\nQ 30.03125 56 36.53125 56 \r\nQ 37.453125 56 38.578125 55.875 \r\nQ 39.703125 55.765625 41.0625 55.515625 \r\nz\r\n\" id=\"DejaVuSans-114\"/>\r\n       <path d=\"M 32.171875 -5.078125 \r\nQ 28.375 -14.84375 24.75 -17.8125 \r\nQ 21.140625 -20.796875 15.09375 -20.796875 \r\nL 7.90625 -20.796875 \r\nL 7.90625 -13.28125 \r\nL 13.1875 -13.28125 \r\nQ 16.890625 -13.28125 18.9375 -11.515625 \r\nQ 21 -9.765625 23.484375 -3.21875 \r\nL 25.09375 0.875 \r\nL 2.984375 54.6875 \r\nL 12.5 54.6875 \r\nL 29.59375 11.921875 \r\nL 46.6875 54.6875 \r\nL 56.203125 54.6875 \r\nz\r\n\" id=\"DejaVuSans-121\"/>\r\n      </defs>\r\n      <use xlink:href=\"#DejaVuSans-97\"/>\r\n      <use x=\"61.279297\" xlink:href=\"#DejaVuSans-99\"/>\r\n      <use x=\"116.259766\" xlink:href=\"#DejaVuSans-99\"/>\r\n      <use x=\"171.240234\" xlink:href=\"#DejaVuSans-117\"/>\r\n      <use x=\"234.619141\" xlink:href=\"#DejaVuSans-114\"/>\r\n      <use x=\"275.732422\" xlink:href=\"#DejaVuSans-97\"/>\r\n      <use x=\"337.011719\" xlink:href=\"#DejaVuSans-99\"/>\r\n      <use x=\"391.992188\" xlink:href=\"#DejaVuSans-121\"/>\r\n     </g>\r\n    </g>\r\n    <g id=\"line2d_38\">\r\n     <path d=\"M 39.103125 53.453906 \r\nL 59.103125 53.453906 \r\n\" style=\"fill:none;stroke:#2ca02c;stroke-linecap:square;stroke-width:1.5;\"/>\r\n    </g>\r\n    <g id=\"line2d_39\"/>\r\n    <g id=\"text_17\">\r\n     <!-- val_loss -->\r\n     <g transform=\"translate(67.103125 56.953906)scale(0.1 -0.1)\">\r\n      <defs>\r\n       <path d=\"M 2.984375 54.6875 \r\nL 12.5 54.6875 \r\nL 29.59375 8.796875 \r\nL 46.6875 54.6875 \r\nL 56.203125 54.6875 \r\nL 35.6875 0 \r\nL 23.484375 0 \r\nz\r\n\" id=\"DejaVuSans-118\"/>\r\n       <path d=\"M 50.984375 -16.609375 \r\nL 50.984375 -23.578125 \r\nL -0.984375 -23.578125 \r\nL -0.984375 -16.609375 \r\nz\r\n\" id=\"DejaVuSans-95\"/>\r\n      </defs>\r\n      <use xlink:href=\"#DejaVuSans-118\"/>\r\n      <use x=\"59.179688\" xlink:href=\"#DejaVuSans-97\"/>\r\n      <use x=\"120.458984\" xlink:href=\"#DejaVuSans-108\"/>\r\n      <use x=\"148.242188\" xlink:href=\"#DejaVuSans-95\"/>\r\n      <use x=\"198.242188\" xlink:href=\"#DejaVuSans-108\"/>\r\n      <use x=\"226.025391\" xlink:href=\"#DejaVuSans-111\"/>\r\n      <use x=\"287.207031\" xlink:href=\"#DejaVuSans-115\"/>\r\n      <use x=\"339.306641\" xlink:href=\"#DejaVuSans-115\"/>\r\n     </g>\r\n    </g>\r\n    <g id=\"line2d_40\">\r\n     <path d=\"M 39.103125 68.410156 \r\nL 59.103125 68.410156 \r\n\" style=\"fill:none;stroke:#d62728;stroke-linecap:square;stroke-width:1.5;\"/>\r\n    </g>\r\n    <g id=\"line2d_41\"/>\r\n    <g id=\"text_18\">\r\n     <!-- val_accuracy -->\r\n     <g transform=\"translate(67.103125 71.910156)scale(0.1 -0.1)\">\r\n      <use xlink:href=\"#DejaVuSans-118\"/>\r\n      <use x=\"59.179688\" xlink:href=\"#DejaVuSans-97\"/>\r\n      <use x=\"120.458984\" xlink:href=\"#DejaVuSans-108\"/>\r\n      <use x=\"148.242188\" xlink:href=\"#DejaVuSans-95\"/>\r\n      <use x=\"198.242188\" xlink:href=\"#DejaVuSans-97\"/>\r\n      <use x=\"259.521484\" xlink:href=\"#DejaVuSans-99\"/>\r\n      <use x=\"314.501953\" xlink:href=\"#DejaVuSans-99\"/>\r\n      <use x=\"369.482422\" xlink:href=\"#DejaVuSans-117\"/>\r\n      <use x=\"432.861328\" xlink:href=\"#DejaVuSans-114\"/>\r\n      <use x=\"473.974609\" xlink:href=\"#DejaVuSans-97\"/>\r\n      <use x=\"535.253906\" xlink:href=\"#DejaVuSans-99\"/>\r\n      <use x=\"590.234375\" xlink:href=\"#DejaVuSans-121\"/>\r\n     </g>\r\n    </g>\r\n    <g id=\"line2d_42\">\r\n     <path d=\"M 39.103125 83.366406 \r\nL 59.103125 83.366406 \r\n\" style=\"fill:none;stroke:#9467bd;stroke-linecap:square;stroke-width:1.5;\"/>\r\n    </g>\r\n    <g id=\"line2d_43\"/>\r\n    <g id=\"text_19\">\r\n     <!-- lr -->\r\n     <g transform=\"translate(67.103125 86.866406)scale(0.1 -0.1)\">\r\n      <use xlink:href=\"#DejaVuSans-108\"/>\r\n      <use x=\"27.783203\" xlink:href=\"#DejaVuSans-114\"/>\r\n     </g>\r\n    </g>\r\n   </g>\r\n  </g>\r\n </g>\r\n <defs>\r\n  <clipPath id=\"p62ecf535fe\">\r\n   <rect height=\"271.8\" width=\"446.4\" x=\"30.103125\" y=\"10.999219\"/>\r\n  </clipPath>\r\n </defs>\r\n</svg>\r\n",
      "image/png": "[encoded data removed]"
     },
     "metadata": {
      "needs_background": "light"
     }
    }
   ],
   "source": [
    "# Show the learning curves.\n",
    "# (The training curves should be shifted half an epoch to the left to be completely comparable with the validation curves).\n",
    "\n",
    "pd.DataFrame(history.history).plot(figsize = (8, 5))\n",
    "plt.grid(True)\n",
    "plt.gca().set_ylim(0, 1)\n",
    "plt.show()"
   ]
  },
  {
   "cell_type": "code",
   "execution_count": 17,
   "metadata": {},
   "outputs": [
    {
     "output_type": "stream",
     "name": "stdout",
     "text": [
      "313/313 [==============================] - 0s 1ms/step - loss: 1.6301 - accuracy: 0.5530\n"
     ]
    },
    {
     "output_type": "execute_result",
     "data": {
      "text/plain": [
       "[1.630077838897705, 0.5529999732971191]"
      ]
     },
     "metadata": {},
     "execution_count": 17
    }
   ],
   "source": [
    "# Evaluating the trained model using the test set.\n",
    "model.evaluate(data_test_standardized, label_test)"
   ]
  },
  {
   "cell_type": "code",
   "execution_count": null,
   "metadata": {},
   "outputs": [],
   "source": [
    "# Save the model, if needed (OPTIONAL!)\n",
    "keras.models.save_model(model, model_path, overwrite = True, include_optimizer = True)"
   ]
  },
  {
   "cell_type": "code",
   "execution_count": null,
   "metadata": {},
   "outputs": [],
   "source": []
  }
 ]
}