{
 "metadata": {
  "language_info": {
   "codemirror_mode": {
    "name": "ipython",
    "version": 3
   },
   "file_extension": ".py",
   "mimetype": "text/x-python",
   "name": "python",
   "nbconvert_exporter": "python",
   "pygments_lexer": "ipython3",
   "version": "3.8.5-final"
  },
  "orig_nbformat": 2,
  "kernelspec": {
   "name": "python3",
   "display_name": "Python 3"
  }
 },
 "nbformat": 4,
 "nbformat_minor": 2,
 "cells": [
  {
   "source": [
    "# Exam project - CIFAR10"
   ],
   "cell_type": "markdown",
   "metadata": {}
  },
  {
   "source": [
    "## Setup"
   ],
   "cell_type": "markdown",
   "metadata": {}
  },
  {
   "cell_type": "code",
   "execution_count": 1,
   "metadata": {},
   "outputs": [],
   "source": [
    "# Common imports\n",
    "import sys\n",
    "import os\n",
    "import time\n",
    "import sklearn\n",
    "import numpy as np\n",
    "import pandas as pd\n",
    "import tensorflow as tf\n",
    "from tensorflow import keras\n",
    "\n",
    "# to make this notebook's output stable across runs\n",
    "np.random.seed(42)\n",
    "tf.random.set_seed(42)\n",
    "\n",
    "%matplotlib inline\n",
    "import matplotlib.pyplot as plt\n",
    "\n",
    "# Ignore useless warnings (see SciPy issue #5998)\n",
    "import warnings\n",
    "warnings.filterwarnings(action = \"ignore\", message = \"^internal gelsd\")"
   ]
  },
  {
   "source": [
    "## Load the data\n",
    "Keras has a number of functions to load popular datasets in keras.datasets. The dataset is already split for you between a training set and a test set."
   ],
   "cell_type": "markdown",
   "metadata": {}
  },
  {
   "cell_type": "code",
   "execution_count": 2,
   "metadata": {},
   "outputs": [],
   "source": [
    "cifar10 = keras.datasets.cifar10\n",
    "(data_train_full, label_train_full), (data_test, label_test) = cifar10.load_data()"
   ]
  },
  {
   "cell_type": "code",
   "execution_count": 3,
   "metadata": {},
   "outputs": [
    {
     "output_type": "stream",
     "name": "stdout",
     "text": [
      "Full set: (50000, 32, 32, 3)\n"
     ]
    }
   ],
   "source": [
    "# Show the size and dimension of the dataset. 50k element, 32x32 images, RGB color layers\n",
    "print('Full set:', data_train_full.shape)"
   ]
  },
  {
   "cell_type": "code",
   "execution_count": 4,
   "metadata": {},
   "outputs": [],
   "source": [
    "# Split the full training set into a validation set and a (smaller) training set, and scale the pixel intensities down to the 0-1 range and convert them to floats, by dividing by 255.0\n",
    "# validate: 0-5000, train: 5000-\n",
    "data_validation, data_train = data_train_full[:5000] / 255.0, data_train_full[5000:] / 255.0 \n",
    "label_validation, label_train = label_train_full[:5000], label_train_full[5000:]\n",
    "data_test = data_test / 255.0"
   ]
  },
  {
   "cell_type": "code",
   "execution_count": 5,
   "metadata": {},
   "outputs": [
    {
     "output_type": "stream",
     "name": "stdout",
     "text": [
      "Train: (45000, 32, 32, 3)\nValidate: (5000, 32, 32, 3)\n"
     ]
    }
   ],
   "source": [
    "print('Train:', data_train.shape)\n",
    "print('Validate:', data_validation.shape)"
   ]
  },
  {
   "cell_type": "code",
   "execution_count": 6,
   "metadata": {},
   "outputs": [
    {
     "output_type": "display_data",
     "data": {
      "text/plain": "<Figure size 432x288 with 1 Axes>",
      "image/svg+xml": "<?xml version=\"1.0\" encoding=\"utf-8\" standalone=\"no\"?>\r\n<!DOCTYPE svg PUBLIC \"-//W3C//DTD SVG 1.1//EN\"\r\n  \"http://www.w3.org/Graphics/SVG/1.1/DTD/svg11.dtd\">\r\n<!-- Created with matplotlib (https://matplotlib.org/) -->\r\n<svg height=\"231.84pt\" version=\"1.1\" viewBox=\"0 0 231.84 231.84\" width=\"231.84pt\" xmlns=\"http://www.w3.org/2000/svg\" xmlns:xlink=\"http://www.w3.org/1999/xlink\">\r\n <metadata>\r\n  <rdf:RDF xmlns:cc=\"http://creativecommons.org/ns#\" xmlns:dc=\"http://purl.org/dc/elements/1.1/\" xmlns:rdf=\"http://www.w3.org/1999/02/22-rdf-syntax-ns#\">\r\n   <cc:Work>\r\n    <dc:type rdf:resource=\"http://purl.org/dc/dcmitype/StillImage\"/>\r\n    <dc:date>2020-12-09T10:43:08.951541</dc:date>\r\n    <dc:format>image/svg+xml</dc:format>\r\n    <dc:creator>\r\n     <cc:Agent>\r\n      <dc:title>Matplotlib v3.3.2, https://matplotlib.org/</dc:title>\r\n     </cc:Agent>\r\n    </dc:creator>\r\n   </cc:Work>\r\n  </rdf:RDF>\r\n </metadata>\r\n <defs>\r\n  <style type=\"text/css\">*{stroke-linecap:butt;stroke-linejoin:round;}</style>\r\n </defs>\r\n <g id=\"figure_1\">\r\n  <g id=\"patch_1\">\r\n   <path d=\"M 0 231.84 \r\nL 231.84 231.84 \r\nL 231.84 0 \r\nL 0 0 \r\nz\r\n\" style=\"fill:none;\"/>\r\n  </g>\r\n  <g id=\"axes_1\">\r\n   <g clip-path=\"url(#p17fcb18ae6)\">\r\n    <image height=\"218\" id=\"imagec9ac680008\" transform=\"scale(1 -1)translate(0 -218)\" width=\"218\" x=\"7.2\" xlink:href=\"data:image/png;base64,\r\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\" y=\"-6.64\"/>\r\n   </g>\r\n  </g>\r\n </g>\r\n <defs>\r\n  <clipPath id=\"p17fcb18ae6\">\r\n   <rect height=\"217.44\" width=\"217.44\" x=\"7.2\" y=\"7.2\"/>\r\n  </clipPath>\r\n </defs>\r\n</svg>\r\n",
      "image/png": "[encoded data removed]"
     },
     "metadata": {
      "needs_background": "light"
     }
    }
   ],
   "source": [
    "#Plot an image using Matplotlib's imshow() function\n",
    "plt.imshow(data_train[0])\n",
    "plt.axis('off')\n",
    "plt.show()"
   ]
  },
  {
   "cell_type": "code",
   "execution_count": 7,
   "metadata": {},
   "outputs": [
    {
     "output_type": "execute_result",
     "data": {
      "text/plain": [
       "'Frog'"
      ]
     },
     "metadata": {},
     "execution_count": 7
    }
   ],
   "source": [
    "class_names = [\"Airplane\", \"Automobile\", \"Bird\", \"Cat\", \"Deer\",\n",
    "               \"Dog\", \"Frog\", \"Horse\", \"Ship\", \"Truck\"]\n",
    "class_names[label_train[0][0]]"
   ]
  },
  {
   "source": [
    "## Standardize the data\n",
    "Because we want to use the SELU activation function and LeCun weight initializer, we should standardize all the input features to a mean of 0 and a standard deviation of 1. Since each pixel is an input feature, there are 28x28=784 input features, and we need to compute the mean and standard deviation for each of them."
   ],
   "cell_type": "markdown",
   "metadata": {}
  },
  {
   "cell_type": "code",
   "execution_count": 8,
   "metadata": {},
   "outputs": [
    {
     "output_type": "stream",
     "name": "stdout",
     "text": [
      "Means: (1, 32, 32, 3)\n",
      "Standard deviation: (1, 32, 32, 3)\n"
     ]
    }
   ],
   "source": [
    "# Compute the mean for each pixel.\n",
    "pixel_means = data_train.mean(axis = 0, keepdims = True)\n",
    "print('Means:', pixel_means.shape)\n",
    "\n",
    "# Compute the standard deviation for each pixel.\n",
    "pixel_stds = data_train.std(axis = 0, keepdims = True)\n",
    "print('Standard deviation:', pixel_stds.shape)"
   ]
  },
  {
   "cell_type": "code",
   "execution_count": 9,
   "metadata": {},
   "outputs": [],
   "source": [
    "# Scale the inputs to mean 0 and standard deviation 1 to achieve self-normalization with SELU and LeCun.\n",
    "data_train_standardized = (data_train - pixel_means) / pixel_stds\n",
    "data_validation_standardized = (data_validation - pixel_means) / pixel_stds\n",
    "data_test_standardized = (data_test - pixel_means) / pixel_stds"
   ]
  },
  {
   "cell_type": "code",
   "execution_count": 10,
   "metadata": {},
   "outputs": [
    {
     "output_type": "execute_result",
     "data": {
      "text/plain": [
       "array([[[[-1.26346538e-14,  3.83544900e-14, -1.45948340e-14],\n",
       "         [ 2.16892529e-14,  3.88299911e-14,  2.69281881e-14],\n",
       "         [ 3.47678923e-15,  4.16193598e-14,  3.18685522e-14],\n",
       "         ...,\n",
       "         [ 1.76495559e-14,  6.61919458e-14,  2.21680353e-14],\n",
       "         [ 1.66235371e-14,  4.96447476e-14,  3.16723191e-14],\n",
       "         [ 5.35746262e-15,  4.45144613e-14,  1.94159799e-14]],\n",
       "\n",
       "        [[-1.99349722e-14, -3.55779603e-15,  4.97943415e-15],\n",
       "         [ 8.87647980e-15,  5.65033699e-14,  3.09045777e-14],\n",
       "         [-5.48222702e-15,  5.33282455e-14,  1.60781906e-14],\n",
       "         ...,\n",
       "         [ 1.28854458e-15,  1.69432073e-14,  1.56435655e-14],\n",
       "         [-5.75694554e-15,  1.82706147e-14, -1.09884447e-15],\n",
       "         [-4.67727092e-15,  2.91203851e-14,  1.43271271e-14]],\n",
       "\n",
       "        [[-2.38230916e-14,  2.39115740e-14,  1.65502476e-14],\n",
       "         [ 1.54112772e-15,  5.32304225e-14,  3.12234189e-16],\n",
       "         [ 1.71493387e-14,  4.50213447e-14,  7.41992640e-15],\n",
       "         ...,\n",
       "         [-1.77874505e-15,  4.72152293e-14,  1.28525487e-14],\n",
       "         [-6.03147162e-15,  3.13038336e-14,  3.94043316e-15],\n",
       "         [-1.94002690e-14,  1.50302511e-14, -5.88925452e-15]],\n",
       "\n",
       "        ...,\n",
       "\n",
       "        [[-4.60960998e-14, -1.94454588e-14, -8.10382070e-14],\n",
       "         [-3.54677349e-14, -4.98424431e-14, -7.99850365e-14],\n",
       "         [-3.65975324e-14, -3.90230478e-14, -8.54803130e-14],\n",
       "         ...,\n",
       "         [-3.67897416e-14, -6.23728082e-14, -9.42505136e-14],\n",
       "         [-1.58437313e-14, -3.79363997e-14, -7.64520299e-14],\n",
       "         [-4.15772404e-14, -3.31281521e-14, -8.95977860e-14]],\n",
       "\n",
       "        [[-4.34805297e-14, -4.10451087e-14, -8.99513180e-14],\n",
       "         [-2.61402097e-14, -4.29036698e-14, -8.77437589e-14],\n",
       "         [-2.83665577e-14, -4.81265375e-14, -9.01708965e-14],\n",
       "         ...,\n",
       "         [-1.80138497e-14, -3.16927669e-14, -9.20452455e-14],\n",
       "         [-2.67316786e-14, -3.08060639e-14, -1.03972352e-13],\n",
       "         [-3.25662115e-14, -3.01285367e-14, -9.15512851e-14]],\n",
       "\n",
       "        [[-1.09369310e-14, -2.43294557e-14, -8.53288010e-14],\n",
       "         [-2.01748821e-14, -3.88763009e-14, -6.32546213e-14],\n",
       "         [-1.38689881e-14, -2.84715911e-14, -7.70930728e-14],\n",
       "         ...,\n",
       "         [-3.06231805e-14, -4.06397632e-14, -7.22581476e-14],\n",
       "         [-3.19223388e-14, -3.26851484e-14, -9.55062252e-14],\n",
       "         [-3.65882386e-14, -2.06118480e-14, -9.47159659e-14]]]])"
      ]
     },
     "metadata": {},
     "execution_count": 10
    }
   ],
   "source": [
    "# Validate that the mean is close to 0 for each pixel.\n",
    "data_train_standardized.mean(axis = 0, keepdims = True)"
   ]
  },
  {
   "cell_type": "code",
   "execution_count": 11,
   "metadata": {},
   "outputs": [
    {
     "output_type": "execute_result",
     "data": {
      "text/plain": [
       "array([[[[1., 1., 1.],\n",
       "         [1., 1., 1.],\n",
       "         [1., 1., 1.],\n",
       "         ...,\n",
       "         [1., 1., 1.],\n",
       "         [1., 1., 1.],\n",
       "         [1., 1., 1.]],\n",
       "\n",
       "        [[1., 1., 1.],\n",
       "         [1., 1., 1.],\n",
       "         [1., 1., 1.],\n",
       "         ...,\n",
       "         [1., 1., 1.],\n",
       "         [1., 1., 1.],\n",
       "         [1., 1., 1.]],\n",
       "\n",
       "        [[1., 1., 1.],\n",
       "         [1., 1., 1.],\n",
       "         [1., 1., 1.],\n",
       "         ...,\n",
       "         [1., 1., 1.],\n",
       "         [1., 1., 1.],\n",
       "         [1., 1., 1.]],\n",
       "\n",
       "        ...,\n",
       "\n",
       "        [[1., 1., 1.],\n",
       "         [1., 1., 1.],\n",
       "         [1., 1., 1.],\n",
       "         ...,\n",
       "         [1., 1., 1.],\n",
       "         [1., 1., 1.],\n",
       "         [1., 1., 1.]],\n",
       "\n",
       "        [[1., 1., 1.],\n",
       "         [1., 1., 1.],\n",
       "         [1., 1., 1.],\n",
       "         ...,\n",
       "         [1., 1., 1.],\n",
       "         [1., 1., 1.],\n",
       "         [1., 1., 1.]],\n",
       "\n",
       "        [[1., 1., 1.],\n",
       "         [1., 1., 1.],\n",
       "         [1., 1., 1.],\n",
       "         ...,\n",
       "         [1., 1., 1.],\n",
       "         [1., 1., 1.],\n",
       "         [1., 1., 1.]]]])"
      ]
     },
     "metadata": {},
     "execution_count": 11
    }
   ],
   "source": [
    "# Validate that the standard deviation is close to 1 for each pixel.\n",
    "data_train_standardized.std(axis = 0, keepdims = True)"
   ]
  },
  {
   "source": [
    "## Create the model using the Sequential API"
   ],
   "cell_type": "markdown",
   "metadata": {}
  },
  {
   "cell_type": "code",
   "execution_count": 12,
   "metadata": {},
   "outputs": [],
   "source": [
    "model_path = os.path.join('ml_exam_cifar10', 'best_model')"
   ]
  },
  {
   "source": [
    "# model = keras.models.load_model(model_path)"
   ],
   "cell_type": "code",
   "metadata": {},
   "execution_count": 13,
   "outputs": []
  },
  {
   "cell_type": "code",
   "execution_count": 14,
   "metadata": {},
   "outputs": [],
   "source": [
    "\n",
    "# Create a function that will build and compile a Keras model.\n",
    "def build_model(n_hidden=1, n_neurons=500, learning_rate=3e-3, input_shape=[32, 32, 3], momentum = 0.9):\n",
    "    model = keras.models.Sequential()\n",
    "\n",
    "    # Input layer:\n",
    "    model.add(keras.layers.Flatten(input_shape=input_shape))\n",
    "\n",
    "    for layer in range(n_hidden):\n",
    "        # Hidden layers:\n",
    "        model.add(keras.layers.Dense(n_neurons, activation = \"selu\", kernel_initializer = \"lecun_normal\"))\n",
    "\n",
    "    # Use alpha dropout in the last hidden layer.\n",
    "    model.add(keras.layers.AlphaDropout(rate = 0.2))\n",
    "\n",
    "    # Output layer.\n",
    "    model.add(keras.layers.Dense(10, activation = \"softmax\"))\n",
    "\n",
    "    optimizer = keras.optimizers.SGD(lr=learning_rate, momentum = momentum)\n",
    "    model.compile(loss=\"sparse_categorical_crossentropy\", optimizer=optimizer, metrics = [\"accuracy\"])\n",
    "\n",
    "    return model\n"
   ]
  },
  {
   "cell_type": "code",
   "execution_count": 15,
   "metadata": {},
   "outputs": [],
   "source": [
    "keras_class = keras.wrappers.scikit_learn.KerasClassifier(build_model)"
   ]
  },
  {
   "source": [
    "## Train the model"
   ],
   "cell_type": "markdown",
   "metadata": {}
  },
  {
   "cell_type": "code",
   "execution_count": 17,
   "metadata": {},
   "outputs": [
    {
     "output_type": "stream",
     "name": "stdout",
     "text": [
      "Fitting 3 folds for each of 20 candidates, totalling 60 fits\n",
      "[Parallel(n_jobs=-1)]: Using backend LokyBackend with 8 concurrent workers.\n",
      "[Parallel(n_jobs=-1)]: Done  25 tasks      | elapsed: 55.5min\n",
      "[Parallel(n_jobs=-1)]: Done  60 out of  60 | elapsed: 140.4min finished\n",
      "Epoch 1/100\n",
      "1407/1407 [==============================] - 7s 5ms/step - loss: 3.0783 - accuracy: 0.2680 - val_loss: 4.2134 - val_accuracy: 0.3056\n",
      "Epoch 2/100\n",
      "1407/1407 [==============================] - 6s 5ms/step - loss: 3.6477 - accuracy: 0.2876 - val_loss: 5.6854 - val_accuracy: 0.2874\n",
      "Epoch 3/100\n",
      "1407/1407 [==============================] - 6s 5ms/step - loss: 4.3967 - accuracy: 0.2913 - val_loss: 6.6299 - val_accuracy: 0.3140\n",
      "Epoch 4/100\n",
      "1407/1407 [==============================] - 6s 5ms/step - loss: 4.5501 - accuracy: 0.3062 - val_loss: 6.0618 - val_accuracy: 0.3200\n",
      "Epoch 5/100\n",
      "1407/1407 [==============================] - 6s 5ms/step - loss: 4.7322 - accuracy: 0.3129 - val_loss: 7.1299 - val_accuracy: 0.3186\n",
      "Epoch 6/100\n",
      "1407/1407 [==============================] - 6s 5ms/step - loss: 2.6969 - accuracy: 0.3840 - val_loss: 2.1830 - val_accuracy: 0.4326\n",
      "Epoch 7/100\n",
      "1407/1407 [==============================] - 6s 4ms/step - loss: 1.8707 - accuracy: 0.4300 - val_loss: 2.2510 - val_accuracy: 0.4342\n",
      "Epoch 8/100\n",
      "1407/1407 [==============================] - 6s 4ms/step - loss: 1.7589 - accuracy: 0.4537 - val_loss: 2.0026 - val_accuracy: 0.4566\n",
      "Epoch 9/100\n",
      "1407/1407 [==============================] - 6s 4ms/step - loss: 1.7051 - accuracy: 0.4592 - val_loss: 2.0684 - val_accuracy: 0.4490\n",
      "Epoch 10/100\n",
      "1407/1407 [==============================] - 6s 4ms/step - loss: 1.6706 - accuracy: 0.4691 - val_loss: 2.0677 - val_accuracy: 0.4490\n",
      "Epoch 11/100\n",
      "1407/1407 [==============================] - 6s 4ms/step - loss: 1.6366 - accuracy: 0.4839 - val_loss: 2.0140 - val_accuracy: 0.4702\n",
      "Epoch 12/100\n",
      "1407/1407 [==============================] - 6s 4ms/step - loss: 1.5902 - accuracy: 0.4941 - val_loss: 2.2964 - val_accuracy: 0.4522\n",
      "Epoch 13/100\n",
      "1407/1407 [==============================] - 6s 4ms/step - loss: 1.3088 - accuracy: 0.5548 - val_loss: 1.7128 - val_accuracy: 0.5086\n",
      "Epoch 14/100\n",
      "1407/1407 [==============================] - 6s 4ms/step - loss: 1.1828 - accuracy: 0.5874 - val_loss: 1.6650 - val_accuracy: 0.5222\n",
      "Epoch 15/100\n",
      "1407/1407 [==============================] - 6s 4ms/step - loss: 1.1632 - accuracy: 0.5956 - val_loss: 1.7088 - val_accuracy: 0.5234\n",
      "Epoch 16/100\n",
      "1407/1407 [==============================] - 6s 4ms/step - loss: 1.1498 - accuracy: 0.6015 - val_loss: 1.7060 - val_accuracy: 0.5290\n",
      "Epoch 17/100\n",
      "1407/1407 [==============================] - 6s 4ms/step - loss: 1.1322 - accuracy: 0.6046 - val_loss: 1.6923 - val_accuracy: 0.5302\n",
      "Epoch 18/100\n",
      "1407/1407 [==============================] - 6s 4ms/step - loss: 1.1146 - accuracy: 0.6105 - val_loss: 1.7070 - val_accuracy: 0.5300\n",
      "Epoch 19/100\n",
      "1407/1407 [==============================] - 6s 4ms/step - loss: 1.0099 - accuracy: 0.6495 - val_loss: 1.5545 - val_accuracy: 0.5596\n",
      "Epoch 20/100\n",
      "1407/1407 [==============================] - 6s 4ms/step - loss: 0.9468 - accuracy: 0.6673 - val_loss: 1.5684 - val_accuracy: 0.5538\n",
      "Epoch 21/100\n",
      "1407/1407 [==============================] - 6s 4ms/step - loss: 0.9428 - accuracy: 0.6660 - val_loss: 1.5648 - val_accuracy: 0.5562\n",
      "Epoch 22/100\n",
      "1407/1407 [==============================] - 6s 4ms/step - loss: 0.9334 - accuracy: 0.6714 - val_loss: 1.6031 - val_accuracy: 0.5526\n",
      "Epoch 23/100\n",
      "1407/1407 [==============================] - 6s 4ms/step - loss: 0.9105 - accuracy: 0.6809 - val_loss: 1.6165 - val_accuracy: 0.5582\n",
      "Epoch 24/100\n",
      "1407/1407 [==============================] - 6s 4ms/step - loss: 0.8684 - accuracy: 0.6957 - val_loss: 1.5755 - val_accuracy: 0.5636\n",
      "Epoch 25/100\n",
      "1407/1407 [==============================] - 6s 4ms/step - loss: 0.8456 - accuracy: 0.7056 - val_loss: 1.5427 - val_accuracy: 0.5674\n",
      "Epoch 26/100\n",
      "1407/1407 [==============================] - 6s 4ms/step - loss: 0.8308 - accuracy: 0.7094 - val_loss: 1.5540 - val_accuracy: 0.5664\n",
      "Epoch 27/100\n",
      "1407/1407 [==============================] - 6s 4ms/step - loss: 0.8232 - accuracy: 0.7091 - val_loss: 1.5506 - val_accuracy: 0.5658\n",
      "Epoch 28/100\n",
      "1407/1407 [==============================] - 6s 4ms/step - loss: 0.8173 - accuracy: 0.7124 - val_loss: 1.5551 - val_accuracy: 0.5710\n",
      "Epoch 29/100\n",
      "1407/1407 [==============================] - 6s 4ms/step - loss: 0.8263 - accuracy: 0.7111 - val_loss: 1.5465 - val_accuracy: 0.5728\n",
      "Epoch 30/100\n",
      "1407/1407 [==============================] - 6s 4ms/step - loss: 0.7922 - accuracy: 0.7244 - val_loss: 1.5440 - val_accuracy: 0.5724\n",
      "Epoch 31/100\n",
      "1407/1407 [==============================] - 6s 4ms/step - loss: 0.7942 - accuracy: 0.7190 - val_loss: 1.5565 - val_accuracy: 0.5750\n",
      "Epoch 32/100\n",
      "1407/1407 [==============================] - 6s 4ms/step - loss: 0.7749 - accuracy: 0.7306 - val_loss: 1.5495 - val_accuracy: 0.5750\n",
      "Epoch 33/100\n",
      "1407/1407 [==============================] - 6s 4ms/step - loss: 0.7804 - accuracy: 0.7266 - val_loss: 1.5561 - val_accuracy: 0.5744\n",
      "Epoch 34/100\n",
      "1407/1407 [==============================] - 6s 4ms/step - loss: 0.7642 - accuracy: 0.7295 - val_loss: 1.5526 - val_accuracy: 0.5780\n",
      "Epoch 35/100\n",
      "1407/1407 [==============================] - 6s 4ms/step - loss: 0.7642 - accuracy: 0.7374 - val_loss: 1.5567 - val_accuracy: 0.5754\n"
     ]
    }
   ],
   "source": [
    "from sklearn.model_selection import RandomizedSearchCV\n",
    "\n",
    "# Define hyperparameter sets and ranges to explore\n",
    "param_distribs = {\n",
    "    \"n_hidden\": [1, 2, 3, 4],\n",
    "    \"n_neurons\": [300, 500, 700, 1000],\n",
    "    \"learning_rate\": [5e-4, 5e-3, 1e-2]    #default learning rate is 1e-2\n",
    "}\n",
    "\n",
    "# EarlyStopping (with rollback to the best model).\n",
    "early_stopping = keras.callbacks.EarlyStopping(patience = 10, restore_best_weights = True)\n",
    "\n",
    "# Performance scheduling (multiply the learning rate by a factor when the error stops dropping for a number of epochs, called patience)\n",
    "lr_scheduler = keras.callbacks.ReduceLROnPlateau(factor = 0.5, patience = 4)\n",
    "                      \n",
    "# Create an instance of RandomizedSearchCV\n",
    "rnd_search_cv = RandomizedSearchCV(keras_class, param_distribs, n_iter=20, cv=3, n_jobs=-1, verbose=2)\n",
    "\n",
    "# Search\n",
    "history = rnd_search_cv.fit(data_train_standardized, label_train, epochs=100,\n",
    "                  validation_data=(data_validation_standardized, label_validation),\n",
    "                  callbacks = [early_stopping, lr_scheduler])"
   ]
  },
  {
   "cell_type": "code",
   "execution_count": 18,
   "metadata": {},
   "outputs": [
    {
     "output_type": "error",
     "ename": "AttributeError",
     "evalue": "'RandomizedSearchCV' object has no attribute 'history'",
     "traceback": [
      "\u001b[1;31m---------------------------------------------------------------------------\u001b[0m",
      "\u001b[1;31mAttributeError\u001b[0m                            Traceback (most recent call last)",
      "\u001b[1;32m<ipython-input-18-d3551446f4fd>\u001b[0m in \u001b[0;36m<module>\u001b[1;34m\u001b[0m\n\u001b[0;32m      2\u001b[0m \u001b[1;31m# (The training curves should be shifted half an epoch to the left to be completely comparable with the validation curves).\u001b[0m\u001b[1;33m\u001b[0m\u001b[1;33m\u001b[0m\u001b[1;33m\u001b[0m\u001b[0m\n\u001b[0;32m      3\u001b[0m \u001b[1;33m\u001b[0m\u001b[0m\n\u001b[1;32m----> 4\u001b[1;33m \u001b[0mpd\u001b[0m\u001b[1;33m.\u001b[0m\u001b[0mDataFrame\u001b[0m\u001b[1;33m(\u001b[0m\u001b[0mhistory\u001b[0m\u001b[1;33m.\u001b[0m\u001b[0mhistory\u001b[0m\u001b[1;33m)\u001b[0m\u001b[1;33m.\u001b[0m\u001b[0mplot\u001b[0m\u001b[1;33m(\u001b[0m\u001b[0mfigsize\u001b[0m \u001b[1;33m=\u001b[0m \u001b[1;33m(\u001b[0m\u001b[1;36m8\u001b[0m\u001b[1;33m,\u001b[0m \u001b[1;36m5\u001b[0m\u001b[1;33m)\u001b[0m\u001b[1;33m)\u001b[0m\u001b[1;33m\u001b[0m\u001b[1;33m\u001b[0m\u001b[0m\n\u001b[0m\u001b[0;32m      5\u001b[0m \u001b[0mplt\u001b[0m\u001b[1;33m.\u001b[0m\u001b[0mgrid\u001b[0m\u001b[1;33m(\u001b[0m\u001b[1;32mTrue\u001b[0m\u001b[1;33m)\u001b[0m\u001b[1;33m\u001b[0m\u001b[1;33m\u001b[0m\u001b[0m\n\u001b[0;32m      6\u001b[0m \u001b[0mplt\u001b[0m\u001b[1;33m.\u001b[0m\u001b[0mgca\u001b[0m\u001b[1;33m(\u001b[0m\u001b[1;33m)\u001b[0m\u001b[1;33m.\u001b[0m\u001b[0mset_ylim\u001b[0m\u001b[1;33m(\u001b[0m\u001b[1;36m0\u001b[0m\u001b[1;33m,\u001b[0m \u001b[1;36m1\u001b[0m\u001b[1;33m)\u001b[0m\u001b[1;33m\u001b[0m\u001b[1;33m\u001b[0m\u001b[0m\n",
      "\u001b[1;31mAttributeError\u001b[0m: 'RandomizedSearchCV' object has no attribute 'history'"
     ]
    }
   ],
   "source": [
    "# Show the learning curves.\n",
    "# (The training curves should be shifted half an epoch to the left to be completely comparable with the validation curves).\n",
    "\n",
    "pd.DataFrame(history.history).plot(figsize = (8, 5))\n",
    "plt.grid(True)\n",
    "plt.gca().set_ylim(0, 1)\n",
    "plt.show()"
   ]
  },
  {
   "cell_type": "code",
   "execution_count": 19,
   "metadata": {},
   "outputs": [
    {
     "output_type": "execute_result",
     "data": {
      "text/plain": [
       "{'n_neurons': 500, 'n_hidden': 1, 'learning_rate': 0.01}"
      ]
     },
     "metadata": {},
     "execution_count": 19
    }
   ],
   "source": [
    "# Display the parameters of the best model.\n",
    "rnd_search_cv.best_params_"
   ]
  },
  {
   "cell_type": "code",
   "execution_count": 20,
   "metadata": {},
   "outputs": [
    {
     "output_type": "execute_result",
     "data": {
      "text/plain": [
       "0.5406888723373413"
      ]
     },
     "metadata": {},
     "execution_count": 20
    }
   ],
   "source": [
    "# Display the score of the best model (note that Scikit-Learn computes a negative value)\n",
    "rnd_search_cv.best_score_"
   ]
  },
  {
   "cell_type": "code",
   "execution_count": 21,
   "metadata": {},
   "outputs": [
    {
     "output_type": "stream",
     "name": "stdout",
     "text": [
      "313/313 [==============================] - 1s 1ms/step - loss: 1.5753 - accuracy: 0.5499\n"
     ]
    },
    {
     "output_type": "execute_result",
     "data": {
      "text/plain": [
       "[1.5752604007720947, 0.5498999953269958]"
      ]
     },
     "metadata": {},
     "execution_count": 21
    }
   ],
   "source": [
    "# Get the model for the best estimator, and evaluate it on the test set.\n",
    "rnd_search_model = rnd_search_cv.best_estimator_.model\n",
    "rnd_search_model.evaluate(data_test_standardized, label_test)"
   ]
  },
  {
   "cell_type": "code",
   "execution_count": null,
   "metadata": {},
   "outputs": [],
   "source": [
    "# Save the model, if needed (OPTIONAL!)\n",
    "# keras.models.save_model(model, model_path, overwrite = True, include_optimizer = True)"
   ]
  },
  {
   "cell_type": "code",
   "execution_count": null,
   "metadata": {},
   "outputs": [],
   "source": []
  }
 ]
}